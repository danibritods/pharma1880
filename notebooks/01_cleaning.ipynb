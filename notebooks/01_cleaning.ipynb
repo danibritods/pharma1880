{
 "cells": [
  {
   "cell_type": "code",
   "execution_count": 14,
   "id": "df4e466c-6291-46b9-a367-ae28bdbd60c3",
   "metadata": {},
   "outputs": [],
   "source": [
    "import polars as pl\n",
    "from pathlib import Path"
   ]
  },
  {
   "cell_type": "code",
   "execution_count": 2,
   "id": "b1eaa635-fdec-4279-aa50-101d30aefb10",
   "metadata": {},
   "outputs": [],
   "source": [
    "ad_analysis_raw = pl.read_csv(Path('../data/01_bronze/notion_ficha_analise.csv'))"
   ]
  },
  {
   "cell_type": "code",
   "execution_count": 3,
   "id": "5ffb9d70-80be-42dc-8659-fe549f75a920",
   "metadata": {
    "jupyter": {
     "source_hidden": true
    }
   },
   "outputs": [],
   "source": [
    "schema_analysis_sheet = [\n",
    "  # a. Identificação do objeto \n",
    " 'Identificador',\n",
    " 'ID',\n",
    " 'Link',\n",
    "    \n",
    " 'Produto ofertado (título completo)',\n",
    " 'Primeiras palavras do anúncio',\n",
    " 'Doença mencionada',\n",
    " 'Tipo de produto',\n",
    " 'Substâncias',\n",
    " 'Extras',\n",
    "    \n",
    " # b. Indentificação do contexto\n",
    " 'Informações indicativas',\n",
    " 'Menções a lugares',\n",
    " 'Origem',\n",
    " 'Preço',\n",
    " 'Responsável técnico',\n",
    " 'Comercialização',\n",
    " 'Depósito',\n",
    " 'Produção',\n",
    "    \n",
    "  # c. Identificação do discurso\n",
    " 'Palavra-chave efeito',\n",
    " 'Palavras-chave produto',\n",
    " 'Discursos de autoridade',\n",
    " 'Público mencionado',\n",
    " 'Detalhamento do efeito',\n",
    " 'Detalhamento forma de uso',\n",
    " 'Autorizações',\n",
    " 'Observações',\n",
    "\n",
    "\n",
    " # d. Identificação gráfica\n",
    " 'Sinal visual de autoridade',\n",
    " 'Quantidade de linhas',\n",
    " 'Quantidade de colunas',\n",
    " 'Quantidade de variações tipográficas (aprox.)',\n",
    " 'Variação typeface',\n",
    " 'Variação tipográfica',\n",
    " 'Alinhamento',\n",
    " 'Diagramação',\n",
    " 'Hieraquia da informação',\n",
    " 'Tipificação da imagem (aprox.)',\n",
    " 'Elementos de composição',\n",
    "\n",
    " #   \n",
    " 'Original (primeira aparição)',\n",
    " 'Derivados',\n",
    " \n",
    " 'Complexidade',\n",
    " 'Status',\n",
    " 'Dúvidas',\n",
    "]\n",
    "\n",
    "multi_select_columns = [\n",
    " 'Primeiras palavras do anúncio',\n",
    " 'Doença mencionada',\n",
    " 'Tipo de produto',\n",
    " 'Substâncias',\n",
    " 'Extras',\n",
    "    \n",
    " # b. Indentificação do contexto\n",
    " 'Informações indicativas',\n",
    " 'Menções a lugares',\n",
    " 'Origem',\n",
    " 'Responsável técnico',\n",
    "    \n",
    "  # c. Identificação do discurso\n",
    " 'Palavra-chave efeito',\n",
    " 'Palavras-chave produto',\n",
    " 'Discursos de autoridade',\n",
    " 'Público mencionado',\n",
    " 'Detalhamento do efeito',\n",
    " 'Detalhamento forma de uso',\n",
    " 'Autorizações',\n",
    "\n",
    " # d. Identificação gráfica\n",
    " 'Sinal visual de autoridade',\n",
    " 'Variação typeface',\n",
    " 'Variação tipográfica',\n",
    " 'Alinhamento',\n",
    " 'Diagramação',\n",
    " 'Hieraquia da informação',\n",
    " 'Tipificação da imagem (aprox.)',\n",
    " 'Elementos de composição',\n",
    "]\n",
    "\n",
    "single_value_columns = [col for col in schema_analysis_sheet if col not in multi_select_columns]"
   ]
  },
  {
   "cell_type": "code",
   "execution_count": 4,
   "id": "32aed2bc-9438-4ff4-b640-f8e49fc52a45",
   "metadata": {
    "scrolled": true
   },
   "outputs": [
    {
     "data": {
      "text/html": [
       "<div><style>\n",
       ".dataframe > thead > tr,\n",
       ".dataframe > tbody > tr {\n",
       "  text-align: right;\n",
       "  white-space: pre-wrap;\n",
       "}\n",
       "</style>\n",
       "<small>shape: (104, 41)</small><table border=\"1\" class=\"dataframe\"><thead><tr><th>Identificador</th><th>ID</th><th>Link</th><th>Produto ofertado (título completo)</th><th>Primeiras palavras do anúncio</th><th>Doença mencionada</th><th>Tipo de produto</th><th>Substâncias</th><th>Extras</th><th>Informações indicativas</th><th>Menções a lugares</th><th>Origem</th><th>Preço</th><th>Responsável técnico</th><th>Comercialização</th><th>Depósito</th><th>Produção</th><th>Palavra-chave efeito</th><th>Palavras-chave produto</th><th>Discursos de autoridade</th><th>Público mencionado</th><th>Detalhamento do efeito</th><th>Detalhamento forma de uso</th><th>Autorizações</th><th>Observações</th><th>Sinal visual de autoridade</th><th>Quantidade de linhas</th><th>Quantidade de colunas</th><th>Quantidade de variações tipográficas (aprox.)</th><th>Variação typeface</th><th>Variação tipográfica</th><th>Alinhamento</th><th>Diagramação</th><th>Hieraquia da informação</th><th>Tipificação da imagem (aprox.)</th><th>Elementos de composição</th><th>Original (primeira aparição)</th><th>Derivados</th><th>Complexidade</th><th>Status</th><th>Dúvidas</th></tr><tr><td>str</td><td>i64</td><td>str</td><td>str</td><td>list[str]</td><td>list[str]</td><td>list[str]</td><td>list[str]</td><td>list[str]</td><td>list[str]</td><td>list[str]</td><td>list[str]</td><td>str</td><td>list[str]</td><td>str</td><td>str</td><td>str</td><td>list[str]</td><td>list[str]</td><td>list[str]</td><td>list[str]</td><td>list[str]</td><td>list[str]</td><td>list[str]</td><td>str</td><td>list[str]</td><td>i64</td><td>str</td><td>i64</td><td>list[str]</td><td>list[str]</td><td>list[str]</td><td>list[str]</td><td>list[str]</td><td>list[str]</td><td>list[str]</td><td>str</td><td>str</td><td>f64</td><td>str</td><td>str</td></tr></thead><tbody><tr><td>&quot;oleo_figado_bacalhau&quot;</td><td>1</td><td>&quot;https://drive.google.com/file/…</td><td>&quot;Oleo puro de figado de bacalha…</td><td>[&quot;Produto&quot;]</td><td>[&quot;Tisica (Tysica)&quot;]</td><td>[&quot;Oleo&quot;]</td><td>[&quot;Iodo&quot;, &quot;Oleo de figado de bacalhau&quot;]</td><td>[&quot;Nenhum&quot;]</td><td>[&quot;Comercialização&quot;, &quot;Responsável técnico/preparado por/Pharmaceutico&quot;]</td><td>[&quot;Bancos da terra nova&quot;, &quot;NY&quot;]</td><td>[&quot;Indefinido&quot;]</td><td>&quot;-&quot;</td><td>[&quot;Lanman &amp; Kemp&quot;]</td><td>&quot;Vende-se em todas as pharmacia…</td><td>&quot;-&quot;</td><td>&quot;-&quot;</td><td>[&quot;Comunica cores saudáveis&quot;, &quot;Efeitos admiráveis&quot;, … &quot;Fortalece&quot;]</td><td>[&quot;Puro&quot;]</td><td>[&quot;Qualidade da produçao&quot;, &quot;Qualidade dos ingredientes&quot;]</td><td>[&quot;Crianças (creanças)&quot;, &quot;Geral&quot;]</td><td>[&quot;Detalhado&quot;]</td><td>[&quot;Ausente&quot;]</td><td>[&quot;Ausente&quot;]</td><td>null</td><td>[&quot;Ausente&quot;]</td><td>null</td><td>null</td><td>5</td><td>[&quot;Serifa&quot;]</td><td>[&quot;Caixa alta&quot;, &quot;Regular&quot;]</td><td>[&quot;Centralizado&quot;, &quot;Justificado esquerda&quot;]</td><td>[&quot;1 coluna&quot;]</td><td>[&quot;Corpo do texto&quot;, &quot;Subtítulo&quot;, &quot;Título principal&quot;]</td><td>[&quot;Animal&quot;, &quot;Peixe&quot;]</td><td>[&quot;Clichê&quot;]</td><td>null</td><td>null</td><td>1.130592</td><td>&quot;Finalizado&quot;</td><td>null</td></tr><tr><td>&quot;tonico_oriental_cabello&quot;</td><td>2</td><td>&quot;https://drive.google.com/file/…</td><td>&quot;O tonico oriental para o cabel…</td><td>[&quot;Produto&quot;]</td><td>[&quot;Caspa&quot;, &quot;Cãs&quot;, … &quot;Tinha&quot;]</td><td>[&quot;Tonico&quot;]</td><td>[&quot;Ausente&quot;]</td><td>[&quot;Nenhum&quot;]</td><td>[&quot;Comercialização&quot;]</td><td>[&quot;Nenhum&quot;]</td><td>[&quot;Indefinido&quot;]</td><td>&quot;-&quot;</td><td>[&quot;Ausente&quot;]</td><td>&quot;Vende-se em todas as pharmacia…</td><td>&quot;-&quot;</td><td>&quot;-&quot;</td><td>[&quot;Conservar [desejável]&quot;, &quot;Evitar [moléstia]&quot;, &quot;Extirpar [moléstia]&quot;]</td><td>[&quot;Agradável&quot;, &quot;Fragrante&quot;]</td><td>[&quot;Ausente&quot;]</td><td>[&quot;Ausente&quot;]</td><td>[&quot;Detalhado&quot;]</td><td>[&quot;Ausente&quot;]</td><td>[&quot;Ausente&quot;]</td><td>null</td><td>[&quot;Ausente&quot;]</td><td>null</td><td>null</td><td>4</td><td>[&quot;Serifa&quot;]</td><td>[&quot;Bold&quot;, &quot;Caixa alta&quot;, &quot;Regular&quot;]</td><td>[&quot;Centralizado&quot;, &quot;Justificado esquerda&quot;]</td><td>[&quot;1 coluna&quot;]</td><td>[&quot;Corpo do texto&quot;, &quot;Título principal&quot;]</td><td>[&quot;Figura Humana&quot;]</td><td>[&quot;Clichê&quot;]</td><td>null</td><td>null</td><td>0.887734</td><td>&quot;Finalizado&quot;</td><td>null</td></tr><tr><td>&quot;pilulas_vegeates_assucaradas_b…</td><td>3</td><td>&quot;https://drive.google.com/file/…</td><td>&quot;Pilulas vegetaes assucaradas d…</td><td>[&quot;Produto&quot;]</td><td>[&quot;Affecção do figado estômago e rins&quot;, &quot;Cardialgia&quot;, … &quot;Tossas [tosse] [tosses]&quot;]</td><td>[&quot;Pilula&quot;]</td><td>[&quot;Leptandrina&quot;, &quot;Popophilina&quot;]</td><td>[&quot;Nenhum&quot;]</td><td>[&quot;Comercialização&quot;]</td><td>[&quot;Nenhum&quot;]</td><td>[&quot;Indefinido&quot;]</td><td>&quot;-&quot;</td><td>[&quot;Ausente&quot;]</td><td>&quot;Vende-se em todas as farmácias…</td><td>&quot;-&quot;</td><td>&quot;-&quot;</td><td>[&quot;Contra [a moléstia as moléstias]&quot;]</td><td>[&quot;Eficaz (efficacissimo)&quot;, &quot;Poderoso(a)&quot;]</td><td>[&quot;Qualidade dos ingredientes&quot;]</td><td>[&quot;Ausente&quot;]</td><td>[&quot;Mencionado&quot;]</td><td>[&quot;Ausente&quot;]</td><td>[&quot;Ausente&quot;]</td><td>null</td><td>[&quot;Ausente&quot;]</td><td>null</td><td>null</td><td>4</td><td>[&quot;Serifa&quot;]</td><td>[&quot;Bold&quot;, &quot;Regular&quot;]</td><td>[&quot;Centralizado&quot;, &quot;Justificado esquerda&quot;]</td><td>[&quot;1 coluna&quot;]</td><td>[&quot;Corpo do texto&quot;, &quot;Título principal&quot;]</td><td>[&quot;Representação do produto&quot;, &quot;Vidraria&quot;]</td><td>[&quot;Clichê&quot;]</td><td>null</td><td>null</td><td>0.887734</td><td>&quot;Finalizado&quot;</td><td>null</td></tr><tr><td>&quot;og_novo_depurativo_extracto_sa…</td><td>4</td><td>&quot;https://drive.google.com/file/…</td><td>&quot;Novo depurativo extracto fluid…</td><td>[&quot;Novo depurativo&quot;, &quot;Produto&quot;]</td><td>[&quot;Blenorrhagias&quot;, &quot;Darthros&quot;, … &quot;Ulceras syphiliticas&quot;]</td><td>[&quot;Elexir/elixir&quot;, &quot;Extrato&quot;]</td><td>[&quot;Batata purgativa&quot;, &quot;Caroba iodurado&quot;, &quot;Salsaparrilha&quot;]</td><td>[&quot;Sugestão de uso coadjuvante com outro medicamento&quot;]</td><td>[&quot;Depósito&quot;, &quot;Preço&quot;, &quot;Responsável técnico/preparado por/Pharmaceutico&quot;]</td><td>[&quot;Campos&quot;, &quot;Rio de Janeiro&quot;]</td><td>[&quot;Indefinido&quot;]</td><td>&quot;Preço de um vidro 2$500\n",
       "Preço …</td><td>[&quot;Joaquim Manoel Venancio da Silva (pharmaceutico chimico pela Faculdadde de Medicina do Rio de Janeiro)&quot;]</td><td>&quot;-&quot;</td><td>&quot;DEPOSITO:—Pharmacia de Vicente…</td><td>&quot;-&quot;</td><td>[&quot;Combater [moléstia]&quot;, &quot;Curar [moléstia] (cura [moléstia]&nbsp;&nbsp;cura-se [moléstia])&quot;, &quot;Eficaz&quot;]</td><td>[&quot;Depurativo (ação depurativa)&quot;, &quot;Depurativo do sangue&quot;, … &quot;dos melhores medicamentos até hoje conhecidos para combater taes efermidades&quot;]</td><td>[&quot;Apelo ao &quot;natural&quot;&quot;, &quot;Qualidade dos ingredientes&quot;]</td><td>[&quot;Portadores/acometidos&quot;]</td><td>[&quot;Detalhado&quot;]</td><td>[&quot;Ausente&quot;]</td><td>[&quot;Ausente&quot;]</td><td>&quot;N. B. — Todos os rotulos e pro…</td><td>[&quot;Ausente&quot;]</td><td>null</td><td>null</td><td>7</td><td>[&quot;Serifa&quot;]</td><td>[&quot;Bold&quot;, &quot;Caixa alta&quot;, … &quot;Regular&quot;]</td><td>[&quot;Alinhado direita&quot;, &quot;Centralizado&quot;, &quot;Justificado esquerda&quot;]</td><td>[&quot;1 coluna&quot;]</td><td>[&quot;Nota de rodapé&quot;, &quot;Subtítulo&quot;, … &quot;Título secundário&quot;]</td><td>[&quot;Espada&quot;, &quot;Lâmpada Mágica&quot;, … &quot;Serpente&quot;]</td><td>[&quot;Clichê&quot;]</td><td>null</td><td>&quot;novo_depurativo_extracto_salsa…</td><td>1.473449</td><td>&quot;Finalizado&quot;</td><td>null</td></tr><tr><td>&quot;salsaparrilha_bristol&quot;</td><td>5</td><td>&quot;https://drive.google.com/file/…</td><td>&quot;Salsaparrilha de bristol&quot;</td><td>[&quot;Produto&quot;]</td><td>[&quot;Chagas perniciosas e inveteradas&quot;, &quot;Debilisdade geral do systema&quot;, … &quot;Tumores&quot;]</td><td>[&quot;Indefinido&quot;]</td><td>[&quot;Salsaparrilha&quot;]</td><td>null</td><td>[&quot;Comercialização&quot;]</td><td>[&quot;Bristol&quot;]</td><td>[&quot;Indefinido&quot;]</td><td>&quot;-&quot;</td><td>[&quot;Ausente&quot;]</td><td>&quot;Vende-se em todas as pharmacia…</td><td>&quot;-&quot;</td><td>&quot;-&quot;</td><td>[&quot;Contra [a moléstia as moléstias]&quot;]</td><td>[&quot;Grande&quot;, &quot;Infalivel (infallivel)&quot;, &quot;Purificador do sangue&quot;]</td><td>[&quot;Ausente&quot;]</td><td>[&quot;Geral&quot;]</td><td>[&quot;Mencionado&quot;]</td><td>[&quot;Ausente&quot;]</td><td>[&quot;Ausente&quot;]</td><td>null</td><td>[&quot;Ausente&quot;]</td><td>null</td><td>null</td><td>2</td><td>[&quot;Serifa&quot;]</td><td>[&quot;Caixa alta&quot;, &quot;Regular&quot;]</td><td>[&quot;Centralizado&quot;, &quot;Justificado esquerda&quot;]</td><td>[&quot;1 coluna&quot;]</td><td>[&quot;Corpo do texto&quot;, &quot;Título principal&quot;]</td><td>[&quot;Ave&quot;, &quot;Chamas&quot;]</td><td>[&quot;Clichê&quot;]</td><td>null</td><td>null</td><td>0.687734</td><td>&quot;Finalizado&quot;</td><td>null</td></tr><tr><td>&hellip;</td><td>&hellip;</td><td>&hellip;</td><td>&hellip;</td><td>&hellip;</td><td>&hellip;</td><td>&hellip;</td><td>&hellip;</td><td>&hellip;</td><td>&hellip;</td><td>&hellip;</td><td>&hellip;</td><td>&hellip;</td><td>&hellip;</td><td>&hellip;</td><td>&hellip;</td><td>&hellip;</td><td>&hellip;</td><td>&hellip;</td><td>&hellip;</td><td>&hellip;</td><td>&hellip;</td><td>&hellip;</td><td>&hellip;</td><td>&hellip;</td><td>&hellip;</td><td>&hellip;</td><td>&hellip;</td><td>&hellip;</td><td>&hellip;</td><td>&hellip;</td><td>&hellip;</td><td>&hellip;</td><td>&hellip;</td><td>&hellip;</td><td>&hellip;</td><td>&hellip;</td><td>&hellip;</td><td>&hellip;</td><td>&hellip;</td><td>&hellip;</td></tr><tr><td>&quot;capsulas_de_grimault_com_matic…</td><td>116</td><td>&quot;https://drive.google.com/file/…</td><td>&quot;Capsulas de Grimault &amp; Cª&quot;</td><td>[&quot;Nome do produto&quot;]</td><td>[&quot;Gonorréas antigas e recentes&quot;]</td><td>[&quot;Capsula&quot;]</td><td>[&quot;Balsamo de copahiba&quot;, &quot;Essencia de matico&quot;]</td><td>[&quot;Nenhum&quot;]</td><td>[&quot;Depósito&quot;, &quot;Responsável técnico/preparado por/Pharmaceutico&quot;]</td><td>[&quot;Brazil&quot;, &quot;Paris&quot;, &quot;Portugal&quot;]</td><td>[&quot;Indefinido&quot;]</td><td>&quot;-&quot;</td><td>[&quot;Grimault &amp; Cª&quot;]</td><td>&quot;-&quot;</td><td>&quot;Deposito em Paris, Pharmacia G…</td><td>&quot;-&quot;</td><td>[&quot;Curar [moléstia] (cura [moléstia]&nbsp;&nbsp;cura-se [moléstia])&quot;, &quot;Não embaraça o estomago&quot;, &quot;Não provoca repugnancia&quot;]</td><td>[&quot;Approvado(a)&quot;, &quot;Infalivel (infallivel)&quot;]</td><td>[&quot;Ausente&quot;]</td><td>[&quot;Ausente&quot;]</td><td>[&quot;Detalhado&quot;]</td><td>[&quot;Ausente&quot;]</td><td>[&quot;Exma. Junta de Hygiene do Brazil&quot;]</td><td>&quot;-&quot;</td><td>[&quot;Ausente&quot;]</td><td>null</td><td>null</td><td>7</td><td>[&quot;Serifa&quot;]</td><td>[&quot;Bold&quot;, &quot;Caixa alta&quot;, … &quot;Regular&quot;]</td><td>[&quot;Centralizado&quot;, &quot;Justificado esquerda&quot;]</td><td>[&quot;1 coluna&quot;]</td><td>[&quot;Corpo do texto&quot;, &quot;Subtítulo&quot;, &quot;Título principal&quot;]</td><td>[&quot;Planta&quot;]</td><td>[&quot;Clichê&quot;, &quot;Fios&quot;, &quot;Moldura&quot;]</td><td>null</td><td>null</td><td>1.51241</td><td>&quot;Finalizado&quot;</td><td>null</td></tr><tr><td>&quot;xarope_quina_ferro_grimault&quot;</td><td>117</td><td>&quot;https://drive.google.com/file/…</td><td>&quot;Xarope de Quina e Ferro&quot;</td><td>[&quot;Nome do produto&quot;]</td><td>[&quot;Anemia&quot;, &quot;Caimbras de estomago&quot;, … &quot;Lymphatismo&quot;]</td><td>[&quot;Xarope&quot;]</td><td>[&quot;Ferro&quot;, &quot;Phosphato&quot;, &quot;Quina&quot;]</td><td>[&quot;Nenhum&quot;]</td><td>[&quot;Depósito&quot;, &quot;Responsável técnico/preparado por/Pharmaceutico&quot;]</td><td>[&quot;Brazil&quot;, &quot;França&quot;, &quot;Paris&quot;]</td><td>[&quot;Indefinido&quot;]</td><td>&quot;-&quot;</td><td>[&quot;Grimault &amp; Cª&quot;]</td><td>&quot;-&quot;</td><td>&quot;DEPOSITO NAS PRINCIPAES PHARMA…</td><td>&quot;-&quot;</td><td>[&quot;Abre apetite&quot;, &quot;Ação reconstituinte&quot;, … &quot;Sustenta os idosos&quot;]</td><td>[&quot;Admittido&quot;, &quot;Approvado(a)&quot;, … &quot;Tonico&quot;]</td><td>[&quot;Apelo ao antigo longevo&quot;, &quot;Qualidade dos ingredientes&quot;]</td><td>[&quot;Crianças (creanças)&quot;, &quot;Idosos [&quot;velhos&quot;]&quot;, &quot;Mulheres (senhoras)&quot;]</td><td>[&quot;Detalhado&quot;]</td><td>[&quot;Ausente&quot;]</td><td>[&quot;Exma. Junta de Hygiene do Brazil&quot;, &quot;Pharmacopéa official da França&quot;]</td><td>&quot;Menciona que o Vinho de quina …</td><td>[&quot;Ausente&quot;]</td><td>null</td><td>null</td><td>7</td><td>[&quot;Sem serifa&quot;, &quot;Serifa&quot;]</td><td>[&quot;Bold&quot;, &quot;Caixa alta&quot;, … &quot;Versalete&quot;]</td><td>[&quot;Centralizado&quot;, &quot;Justificado esquerda&quot;]</td><td>[&quot;1 coluna&quot;]</td><td>[&quot;Corpo do texto&quot;, &quot;Subtítulo&quot;, &quot;Título principal&quot;]</td><td>[&quot;Ausente&quot;]</td><td>[&quot;Moldura&quot;]</td><td>null</td><td>null</td><td>1.441703</td><td>&quot;Finalizado&quot;</td><td>null</td></tr><tr><td>&quot;contra_vermes_pilulas_dr_penal…</td><td>118</td><td>&quot;https://drive.google.com/file/…</td><td>&quot;Pilulas do Dr. Penalva&quot;</td><td>[&quot;Contra&quot;, &quot;[Moléstia]&quot;]</td><td>[&quot;Vermes&quot;]</td><td>[&quot;Pilula&quot;]</td><td>[&quot;Ausente&quot;]</td><td>[&quot;Nenhum&quot;]</td><td>[&quot;Comercialização/Depósito (dúbia)&quot;]</td><td>[&quot;Nenhum&quot;]</td><td>[&quot;Indefinido&quot;]</td><td>&quot;-&quot;</td><td>[&quot;Dr. Penalva&quot;]</td><td>&quot;Na pharmacia da rua Direita n.…</td><td>&quot;-&quot;</td><td>&quot;-&quot;</td><td>[&quot;Contra [a moléstia as moléstias]&quot;]</td><td>[&quot;Ausente&quot;]</td><td>[&quot;Ausente&quot;]</td><td>[&quot;Ausente&quot;]</td><td>[&quot;Ausente&quot;]</td><td>[&quot;Ausente&quot;]</td><td>[&quot;Ausente&quot;]</td><td>&quot;-&quot;</td><td>[&quot;Ausente&quot;]</td><td>null</td><td>null</td><td>3</td><td>[&quot;Serifa&quot;]</td><td>[&quot;Bold&quot;, &quot;Caixa alta&quot;, &quot;Regular&quot;]</td><td>[&quot;Centralizado&quot;, &quot;Justificado esquerda&quot;]</td><td>[&quot;1 coluna&quot;]</td><td>[&quot;Corpo do texto&quot;, &quot;Subtítulo&quot;, &quot;Título principal&quot;]</td><td>[&quot;Ausente&quot;]</td><td>[&quot;Ausente&quot;]</td><td>&quot;contra_vermes_lombrigas (https…</td><td>null</td><td>0.930592</td><td>&quot;Finalizado&quot;</td><td>null</td></tr><tr><td>&quot;gonorrheas_novo&quot;</td><td>119</td><td>&quot;https://drive.google.com/file/…</td><td>&quot;Lealina&quot;</td><td>[&quot;[Moléstia]&quot;]</td><td>[&quot;Gonorréas antigas e recentes&quot;]</td><td>[&quot;Indefinido&quot;]</td><td>[&quot;Lealina&quot;]</td><td>[&quot;Nenhum&quot;]</td><td>[&quot;Depósito&quot;]</td><td>[&quot;Campos&quot;, &quot;Rio de Janeiro&quot;]</td><td>[&quot;Inferido&quot;, &quot;Nacional&quot;]</td><td>&quot;-&quot;</td><td>[&quot;Ausente&quot;]</td><td>&quot;-&quot;</td><td>&quot;Unico depositario em Campos, H…</td><td>&quot;-&quot;</td><td>[&quot;Cura rápida&quot;, &quot;Curar [moléstia] (cura [moléstia]&nbsp;&nbsp;cura-se [moléstia])&quot;, … &quot;Sem massantes injecções&quot;]</td><td>[&quot;Indigena&quot;]</td><td>[&quot;Sabedoria indígena&quot;, &quot;Vantagem sobre outros&quot;]</td><td>[&quot;Ausente&quot;]</td><td>[&quot;Mencionado&quot;]</td><td>[&quot;Ausente&quot;]</td><td>[&quot;Ausente&quot;]</td><td>&quot;-&quot;</td><td>[&quot;Ausente&quot;]</td><td>null</td><td>null</td><td>2</td><td>[&quot;Serifa&quot;]</td><td>[&quot;Caixa alta&quot;, &quot;Regular&quot;]</td><td>[&quot;Justificado esquerda&quot;]</td><td>[&quot;1 coluna&quot;]</td><td>[&quot;Corpo do texto&quot;, &quot;Título principal&quot;]</td><td>[&quot;Ausente&quot;]</td><td>[&quot;Ausente&quot;]</td><td>null</td><td>null</td><td>0.687734</td><td>&quot;Finalizado&quot;</td><td>null</td></tr><tr><td>&quot;xarope_contra_a_coqueluche&quot;</td><td>120</td><td>&quot;https://drive.google.com/file/…</td><td>&quot;Xarope contra a coqueluche&quot;</td><td>[&quot;Contra&quot;, &quot;Produto&quot;, &quot;[Moléstia]&quot;]</td><td>[&quot;Coqueluche&quot;]</td><td>[&quot;Xarope&quot;]</td><td>[&quot;Ausente&quot;]</td><td>[&quot;Prospecto [directorio]&quot;]</td><td>[&quot;Comercialização/Depósito (dúbia)&quot;]</td><td>[&quot;Campos&quot;]</td><td>[&quot;Indefinido&quot;]</td><td>&quot;-&quot;</td><td>[&quot;Ausente&quot;]</td><td>&quot;Campos, rua Concelho n. 44&quot;</td><td>&quot;-&quot;</td><td>&quot;-&quot;</td><td>[&quot;Contra [a moléstia as moléstias]&quot;]</td><td>[&quot;Precioso&quot;]</td><td>[&quot;Apelo a eficiencia&quot;]</td><td>[&quot;Ausente&quot;]</td><td>[&quot;Mencionado&quot;]</td><td>[&quot;Mencionado&quot;]</td><td>[&quot;Ausente&quot;]</td><td>&quot;-&quot;</td><td>[&quot;Ausente&quot;]</td><td>null</td><td>null</td><td>2</td><td>[&quot;Serifa&quot;]</td><td>[&quot;Bold&quot;, &quot;Caixa alta&quot;, &quot;Regular&quot;]</td><td>[&quot;Centralizado&quot;, &quot;Justificado esquerda&quot;]</td><td>[&quot;1 coluna&quot;]</td><td>[&quot;Corpo do texto&quot;, &quot;Título principal&quot;]</td><td>[&quot;Ausente&quot;]</td><td>[&quot;Ausente&quot;]</td><td>null</td><td>null</td><td>0.687734</td><td>&quot;Finalizado&quot;</td><td>null</td></tr></tbody></table></div>"
      ],
      "text/plain": [
       "shape: (104, 41)\n",
       "┌─────────────┬─────┬────────────┬────────────┬───┬────────────┬────────────┬────────────┬─────────┐\n",
       "│ Identificad ┆ ID  ┆ Link       ┆ Produto    ┆ … ┆ Derivados  ┆ Complexida ┆ Status     ┆ Dúvidas │\n",
       "│ or          ┆ --- ┆ ---        ┆ ofertado   ┆   ┆ ---        ┆ de         ┆ ---        ┆ ---     │\n",
       "│ ---         ┆ i64 ┆ str        ┆ (título    ┆   ┆ str        ┆ ---        ┆ str        ┆ str     │\n",
       "│ str         ┆     ┆            ┆ compl…     ┆   ┆            ┆ f64        ┆            ┆         │\n",
       "│             ┆     ┆            ┆ ---        ┆   ┆            ┆            ┆            ┆         │\n",
       "│             ┆     ┆            ┆ str        ┆   ┆            ┆            ┆            ┆         │\n",
       "╞═════════════╪═════╪════════════╪════════════╪═══╪════════════╪════════════╪════════════╪═════════╡\n",
       "│ oleo_figado ┆ 1   ┆ https://dr ┆ Oleo puro  ┆ … ┆ null       ┆ 1.130592   ┆ Finalizado ┆ null    │\n",
       "│ _bacalhau   ┆     ┆ ive.google ┆ de figado  ┆   ┆            ┆            ┆            ┆         │\n",
       "│             ┆     ┆ .com/file/ ┆ de         ┆   ┆            ┆            ┆            ┆         │\n",
       "│             ┆     ┆ …          ┆ bacalha…   ┆   ┆            ┆            ┆            ┆         │\n",
       "│ tonico_orie ┆ 2   ┆ https://dr ┆ O tonico   ┆ … ┆ null       ┆ 0.887734   ┆ Finalizado ┆ null    │\n",
       "│ ntal_cabell ┆     ┆ ive.google ┆ oriental   ┆   ┆            ┆            ┆            ┆         │\n",
       "│ o           ┆     ┆ .com/file/ ┆ para o     ┆   ┆            ┆            ┆            ┆         │\n",
       "│             ┆     ┆ …          ┆ cabel…     ┆   ┆            ┆            ┆            ┆         │\n",
       "│ pilulas_veg ┆ 3   ┆ https://dr ┆ Pilulas    ┆ … ┆ null       ┆ 0.887734   ┆ Finalizado ┆ null    │\n",
       "│ eates_assuc ┆     ┆ ive.google ┆ vegetaes   ┆   ┆            ┆            ┆            ┆         │\n",
       "│ aradas_b…   ┆     ┆ .com/file/ ┆ assucarada ┆   ┆            ┆            ┆            ┆         │\n",
       "│             ┆     ┆ …          ┆ s d…       ┆   ┆            ┆            ┆            ┆         │\n",
       "│ og_novo_dep ┆ 4   ┆ https://dr ┆ Novo       ┆ … ┆ novo_depur ┆ 1.473449   ┆ Finalizado ┆ null    │\n",
       "│ urativo_ext ┆     ┆ ive.google ┆ depurativo ┆   ┆ ativo_extr ┆            ┆            ┆         │\n",
       "│ racto_sa…   ┆     ┆ .com/file/ ┆ extracto   ┆   ┆ acto_salsa ┆            ┆            ┆         │\n",
       "│             ┆     ┆ …          ┆ fluid…     ┆   ┆ …          ┆            ┆            ┆         │\n",
       "│ salsaparril ┆ 5   ┆ https://dr ┆ Salsaparri ┆ … ┆ null       ┆ 0.687734   ┆ Finalizado ┆ null    │\n",
       "│ ha_bristol  ┆     ┆ ive.google ┆ lha de     ┆   ┆            ┆            ┆            ┆         │\n",
       "│             ┆     ┆ .com/file/ ┆ bristol    ┆   ┆            ┆            ┆            ┆         │\n",
       "│             ┆     ┆ …          ┆            ┆   ┆            ┆            ┆            ┆         │\n",
       "│ …           ┆ …   ┆ …          ┆ …          ┆ … ┆ …          ┆ …          ┆ …          ┆ …       │\n",
       "│ capsulas_de ┆ 116 ┆ https://dr ┆ Capsulas   ┆ … ┆ null       ┆ 1.51241    ┆ Finalizado ┆ null    │\n",
       "│ _grimault_c ┆     ┆ ive.google ┆ de         ┆   ┆            ┆            ┆            ┆         │\n",
       "│ om_matic…   ┆     ┆ .com/file/ ┆ Grimault & ┆   ┆            ┆            ┆            ┆         │\n",
       "│             ┆     ┆ …          ┆ Cª         ┆   ┆            ┆            ┆            ┆         │\n",
       "│ xarope_quin ┆ 117 ┆ https://dr ┆ Xarope de  ┆ … ┆ null       ┆ 1.441703   ┆ Finalizado ┆ null    │\n",
       "│ a_ferro_gri ┆     ┆ ive.google ┆ Quina e    ┆   ┆            ┆            ┆            ┆         │\n",
       "│ mault       ┆     ┆ .com/file/ ┆ Ferro      ┆   ┆            ┆            ┆            ┆         │\n",
       "│             ┆     ┆ …          ┆            ┆   ┆            ┆            ┆            ┆         │\n",
       "│ contra_verm ┆ 118 ┆ https://dr ┆ Pilulas do ┆ … ┆ null       ┆ 0.930592   ┆ Finalizado ┆ null    │\n",
       "│ es_pilulas_ ┆     ┆ ive.google ┆ Dr.        ┆   ┆            ┆            ┆            ┆         │\n",
       "│ dr_penal…   ┆     ┆ .com/file/ ┆ Penalva    ┆   ┆            ┆            ┆            ┆         │\n",
       "│             ┆     ┆ …          ┆            ┆   ┆            ┆            ┆            ┆         │\n",
       "│ gonorrheas_ ┆ 119 ┆ https://dr ┆ Lealina    ┆ … ┆ null       ┆ 0.687734   ┆ Finalizado ┆ null    │\n",
       "│ novo        ┆     ┆ ive.google ┆            ┆   ┆            ┆            ┆            ┆         │\n",
       "│             ┆     ┆ .com/file/ ┆            ┆   ┆            ┆            ┆            ┆         │\n",
       "│             ┆     ┆ …          ┆            ┆   ┆            ┆            ┆            ┆         │\n",
       "│ xarope_cont ┆ 120 ┆ https://dr ┆ Xarope     ┆ … ┆ null       ┆ 0.687734   ┆ Finalizado ┆ null    │\n",
       "│ ra_a_coquel ┆     ┆ ive.google ┆ contra a   ┆   ┆            ┆            ┆            ┆         │\n",
       "│ uche        ┆     ┆ .com/file/ ┆ coqueluche ┆   ┆            ┆            ┆            ┆         │\n",
       "│             ┆     ┆ …          ┆            ┆   ┆            ┆            ┆            ┆         │\n",
       "└─────────────┴─────┴────────────┴────────────┴───┴────────────┴────────────┴────────────┴─────────┘"
      ]
     },
     "execution_count": 4,
     "metadata": {},
     "output_type": "execute_result"
    }
   ],
   "source": [
    "ad_analysis = (ad_analysis_raw\n",
    "    .select([\n",
    "        pl.col(c).str.split(\", \").alias(c) if c in multi_select_columns else pl.col(c)\n",
    "        for c in schema_analysis_sheet])\n",
    "    .filter(pl.col('Status').eq('Finalizado'))\n",
    "    )\n",
    "ad_analysis"
   ]
  },
  {
   "cell_type": "code",
   "execution_count": 5,
   "id": "77ca9821-91f4-4bc7-b70e-d7de1b9bb2cc",
   "metadata": {},
   "outputs": [],
   "source": [
    "def clean_text(text: str) -> str:\n",
    "    translation_table = str.maketrans(' -çõãóéíâáú','__coaoeiaau', '().')\n",
    "    return text.lower().translate(translation_table)"
   ]
  },
  {
   "cell_type": "code",
   "execution_count": 6,
   "id": "6b6d87d1-7747-403d-92f2-30298e779099",
   "metadata": {},
   "outputs": [],
   "source": [
    "tables = {\n",
    "    clean_text(col) : ad_analysis.select(['Identificador',col]).explode(col).unique().drop_nulls().rename({col:clean_text(col)})\n",
    "    for col in multi_select_columns\n",
    "}\n",
    "tables.update(\n",
    "       {\n",
    "           'anuncios': ad_analysis.select(single_value_columns).with_columns(\n",
    "                (pl.lit('https://drive.google.com/thumbnail?id=') + \n",
    "                 pl.col('Link').str.extract(r'([-\\w]{25,})') + pl.lit('&sz=w1920')).alias('image_url')\n",
    "            ),\n",
    "           'original': (ad_analysis.select(['Identificador', 'Original (primeira aparição)']).unique().drop_nulls().with_columns(pl.col('Original (primeira aparição)').str.split(' ').list.get(0)))\n",
    "       }\n",
    ")"
   ]
  },
  {
   "cell_type": "code",
   "execution_count": 7,
   "id": "6ad4bcbb-a0dd-4021-bb79-d09f8b69d8b4",
   "metadata": {},
   "outputs": [],
   "source": [
    "tables;"
   ]
  },
  {
   "cell_type": "code",
   "execution_count": 8,
   "id": "cd00dde6-29c5-43db-92aa-3827a19508de",
   "metadata": {},
   "outputs": [],
   "source": [
    "ad_insertions_raw = pl.read_csv(Path(\"../data/01_bronze/sheets_ficha_registro_veiculacoes.csv\"))"
   ]
  },
  {
   "cell_type": "code",
   "execution_count": 9,
   "id": "f56323fa-0d6d-4f19-9263-90f0d3d35614",
   "metadata": {},
   "outputs": [],
   "source": [
    "schema_ad_insertions = ['Anúncio',\n",
    " 'Ano',\n",
    " 'Edição',\n",
    " 'Página',\n",
    " 'Coluna(s) ocupadas',\n",
    " 'Número de Colunas',\n",
    " 'Orientação']"
   ]
  },
  {
   "cell_type": "code",
   "execution_count": 10,
   "id": "9178c1c2-661d-4120-906c-a9e719f36435",
   "metadata": {},
   "outputs": [],
   "source": [
    "tables.update(\n",
    "    {\n",
    "        'veiculacoes':(\n",
    "            ad_insertions_raw\n",
    "                .select(schema_ad_insertions)  \n",
    "                .filter(pl.col('Anúncio').is_not_null())\n",
    "                .rename({'Anúncio':'Identificador'})\n",
    "                .with_columns(\n",
    "                    pl.format(\"{}_{}\", \n",
    "                              pl.col('Ano'), \n",
    "                              pl.col('Edição').cast(pl.Utf8).str.zfill(3)\n",
    "                             )\n",
    "                    .alias('ano_edicao')\n",
    "    ))\n",
    "    }\n",
    ")"
   ]
  },
  {
   "cell_type": "code",
   "execution_count": 11,
   "id": "3e37942f-30c6-4f53-bf58-1350599e3aa0",
   "metadata": {},
   "outputs": [],
   "source": [
    "db_path = Path('../data/03_gold/monitor_campista_pharma_ads_1880_1884.db')\n",
    "db_connection_string = f\"sqlite:///{db_path.resolve()}\"\n",
    "\n",
    "for table_name, df in tables.items():\n",
    "    df.write_database(\n",
    "        table_name=table_name,\n",
    "        connection=db_connection_string,\n",
    "        if_table_exists=\"replace\",\n",
    "        engine='adbc'\n",
    "    )"
   ]
  },
  {
   "cell_type": "code",
   "execution_count": 12,
   "id": "fbe9a3dd-9e5b-47fc-91bf-c097b41a7408",
   "metadata": {},
   "outputs": [],
   "source": [
    "import duckdb\n",
    "\n",
    "db_path = Path(\"../data/03_gold/monitor_campista_pharma_ads_1880_1884.duckdb\")\n",
    "con = duckdb.connect(str(db_path))\n",
    "\n",
    "for table_name, df in tables.items():\n",
    "    con.register(\"tmp_arrow\", df.to_arrow())\n",
    "    con.execute(f\"CREATE OR REPLACE TABLE {table_name} AS SELECT * FROM tmp_arrow\")\n",
    "con.close()"
   ]
  },
  {
   "cell_type": "code",
   "execution_count": 13,
   "id": "514adad6-80c8-42dd-b558-a90fcb92bceb",
   "metadata": {},
   "outputs": [
    {
     "data": {
      "text/plain": [
       "dict_keys(['primeiras_palavras_do_anuncio', 'doenca_mencionada', 'tipo_de_produto', 'substancias', 'extras', 'informacoes_indicativas', 'mencoes_a_lugares', 'origem', 'responsavel_tecnico', 'palavra_chave_efeito', 'palavras_chave_produto', 'discursos_de_autoridade', 'publico_mencionado', 'detalhamento_do_efeito', 'detalhamento_forma_de_uso', 'autorizacoes', 'sinal_visual_de_autoridade', 'variacao_typeface', 'variacao_tipografica', 'alinhamento', 'diagramacao', 'hieraquia_da_informacao', 'tipificacao_da_imagem_aprox', 'elementos_de_composicao', 'anuncios', 'original', 'veiculacoes'])"
      ]
     },
     "execution_count": 13,
     "metadata": {},
     "output_type": "execute_result"
    }
   ],
   "source": [
    "tables.keys()"
   ]
  }
 ],
 "metadata": {
  "kernelspec": {
   "display_name": "Python 3 (ipykernel)",
   "language": "python",
   "name": "python3"
  },
  "language_info": {
   "codemirror_mode": {
    "name": "ipython",
    "version": 3
   },
   "file_extension": ".py",
   "mimetype": "text/x-python",
   "name": "python",
   "nbconvert_exporter": "python",
   "pygments_lexer": "ipython3",
   "version": "3.11.10"
  }
 },
 "nbformat": 4,
 "nbformat_minor": 5
}
