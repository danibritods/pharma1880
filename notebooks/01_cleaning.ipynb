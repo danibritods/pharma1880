{
 "cells": [
  {
   "cell_type": "code",
   "execution_count": 1,
   "id": "df4e466c-6291-46b9-a367-ae28bdbd60c3",
   "metadata": {},
   "outputs": [],
   "source": [
    "import polars as pl\n",
    "from pathlib import Path"
   ]
  },
  {
   "cell_type": "code",
   "execution_count": 2,
   "id": "b1eaa635-fdec-4279-aa50-101d30aefb10",
   "metadata": {},
   "outputs": [],
   "source": [
    "ad_analysis_raw = pl.read_csv(Path('../data/01_bronze/notion_ficha_analise.csv'))"
   ]
  },
  {
   "cell_type": "code",
   "execution_count": 3,
   "id": "574b52fe-b735-4a14-b1e1-e75cb21231ad",
   "metadata": {},
   "outputs": [
    {
     "data": {
      "text/html": [
       "<div><style>\n",
       ".dataframe > thead > tr,\n",
       ".dataframe > tbody > tr {\n",
       "  text-align: right;\n",
       "  white-space: pre-wrap;\n",
       "}\n",
       "</style>\n",
       "<small>shape: (152, 38)</small><table border=\"1\" class=\"dataframe\"><thead><tr><th>Identificador</th><th>Alinhamento</th><th>Autorizações</th><th>Comercialização</th><th>Depósito</th><th>Derivados</th><th>Detalhamento do efeito</th><th>Detalhamento forma de uso</th><th>Diagramação</th><th>Discursos de autoridade</th><th>Doença mencionada</th><th>Dúvidas</th><th>Elementos de composição</th><th>Extras</th><th>Hieraquia da informação</th><th>ID</th><th>Informações indicativas</th><th>Link</th><th>Menções a lugares</th><th>Observações</th><th>Origem</th><th>Original (primeira aparição)</th><th>Palavra-chave efeito</th><th>Palavras-chave produto</th><th>Preço</th><th>Primeiras palavras do anúncio</th><th>Produto ofertado (título completo)</th><th>Produção</th><th>Público mencionado</th><th>Quantidade de variações tipográficas (aprox.)</th><th>Responsável técnico</th><th>Sinal visual de autoridade</th><th>Status</th><th>Substâncias</th><th>Tipificação da imagem (aprox.)</th><th>Tipo de produto</th><th>Variação tipográfica</th><th>Variação typeface</th></tr><tr><td>str</td><td>str</td><td>str</td><td>str</td><td>str</td><td>str</td><td>str</td><td>str</td><td>str</td><td>str</td><td>str</td><td>str</td><td>str</td><td>str</td><td>str</td><td>i64</td><td>str</td><td>str</td><td>str</td><td>str</td><td>str</td><td>str</td><td>str</td><td>str</td><td>str</td><td>str</td><td>str</td><td>str</td><td>str</td><td>i64</td><td>str</td><td>str</td><td>str</td><td>str</td><td>str</td><td>str</td><td>str</td><td>str</td></tr></thead><tbody><tr><td>&quot;oleo_figado_bacalhau&quot;</td><td>&quot;Centralizado, Justificado esqu…</td><td>&quot;Ausente&quot;</td><td>&quot;Vende-se em todas as pharmacia…</td><td>&quot;-&quot;</td><td>null</td><td>&quot;Detalhado&quot;</td><td>&quot;Ausente&quot;</td><td>&quot;1 coluna&quot;</td><td>&quot;Qualidade da produçao, Qualida…</td><td>&quot;Tisica (Tysica)&quot;</td><td>null</td><td>&quot;Clichê&quot;</td><td>&quot;Nenhum&quot;</td><td>&quot;Corpo do texto, Subtítulo, Tít…</td><td>1</td><td>&quot;Comercialização, Responsável t…</td><td>&quot;https://drive.google.com/file/…</td><td>&quot;Bancos da terra nova, NY&quot;</td><td>null</td><td>&quot;Indefinido&quot;</td><td>null</td><td>&quot;Comunica cores saudáveis, Efei…</td><td>&quot;Puro&quot;</td><td>&quot;-&quot;</td><td>&quot;Produto&quot;</td><td>&quot;Oleo puro de figado de bacalha…</td><td>&quot;-&quot;</td><td>&quot;Crianças (creanças), Geral&quot;</td><td>5</td><td>&quot;Lanman &amp; Kemp&quot;</td><td>&quot;Ausente&quot;</td><td>&quot;Finalizado&quot;</td><td>&quot;Iodo, Oleo de figado de bacalh…</td><td>&quot;Animal, Peixe&quot;</td><td>&quot;Oleo&quot;</td><td>&quot;Caixa alta, Regular&quot;</td><td>&quot;Serifa&quot;</td></tr><tr><td>&quot;tonico_oriental_cabello&quot;</td><td>&quot;Centralizado, Justificado esqu…</td><td>&quot;Ausente&quot;</td><td>&quot;Vende-se em todas as pharmacia…</td><td>&quot;-&quot;</td><td>null</td><td>&quot;Detalhado&quot;</td><td>&quot;Ausente&quot;</td><td>&quot;1 coluna&quot;</td><td>&quot;Ausente&quot;</td><td>&quot;Caspa, Cãs, Moléstias da cabeç…</td><td>null</td><td>&quot;Clichê&quot;</td><td>&quot;Nenhum&quot;</td><td>&quot;Corpo do texto, Título princip…</td><td>2</td><td>&quot;Comercialização&quot;</td><td>&quot;https://drive.google.com/file/…</td><td>&quot;Nenhum&quot;</td><td>null</td><td>&quot;Indefinido&quot;</td><td>null</td><td>&quot;Conservar [desejável], Evitar …</td><td>&quot;Agradável, Fragrante&quot;</td><td>&quot;-&quot;</td><td>&quot;Produto&quot;</td><td>&quot;O tonico oriental para o cabel…</td><td>&quot;-&quot;</td><td>&quot;Ausente&quot;</td><td>4</td><td>&quot;Ausente&quot;</td><td>&quot;Ausente&quot;</td><td>&quot;Finalizado&quot;</td><td>&quot;Ausente&quot;</td><td>&quot;Figura Humana&quot;</td><td>&quot;Tonico&quot;</td><td>&quot;Bold, Caixa alta, Regular&quot;</td><td>&quot;Serifa&quot;</td></tr><tr><td>&quot;pilulas_vegeates_assucaradas_b…</td><td>&quot;Centralizado, Justificado esqu…</td><td>&quot;Ausente&quot;</td><td>&quot;Vende-se em todas as farmácias…</td><td>&quot;-&quot;</td><td>null</td><td>&quot;Mencionado&quot;</td><td>&quot;Ausente&quot;</td><td>&quot;1 coluna&quot;</td><td>&quot;Qualidade dos ingredientes&quot;</td><td>&quot;Affecção do figado estômago e …</td><td>null</td><td>&quot;Clichê&quot;</td><td>&quot;Nenhum&quot;</td><td>&quot;Corpo do texto, Título princip…</td><td>3</td><td>&quot;Comercialização&quot;</td><td>&quot;https://drive.google.com/file/…</td><td>&quot;Nenhum&quot;</td><td>null</td><td>&quot;Indefinido&quot;</td><td>null</td><td>&quot;Contra [a moléstia as moléstia…</td><td>&quot;Eficaz (efficacissimo), Podero…</td><td>&quot;-&quot;</td><td>&quot;Produto&quot;</td><td>&quot;Pilulas vegetaes assucaradas d…</td><td>&quot;-&quot;</td><td>&quot;Ausente&quot;</td><td>4</td><td>&quot;Ausente&quot;</td><td>&quot;Ausente&quot;</td><td>&quot;Finalizado&quot;</td><td>&quot;Leptandrina, Popophilina&quot;</td><td>&quot;Representação do produto, Vidr…</td><td>&quot;Pilula&quot;</td><td>&quot;Bold, Regular&quot;</td><td>&quot;Serifa&quot;</td></tr><tr><td>&quot;og_novo_depurativo_extracto_sa…</td><td>&quot;Alinhado direita, Centralizado…</td><td>&quot;Ausente&quot;</td><td>&quot;-&quot;</td><td>&quot;DEPOSITO:—Pharmacia de Vicente…</td><td>&quot;novo_depurativo_extracto_salsa…</td><td>&quot;Detalhado&quot;</td><td>&quot;Ausente&quot;</td><td>&quot;1 coluna&quot;</td><td>&quot;Apelo ao &quot;natural&quot;, Qualidade …</td><td>&quot;Blenorrhagias, Darthros, Panno…</td><td>null</td><td>&quot;Clichê&quot;</td><td>&quot;Sugestão de uso coadjuvante co…</td><td>&quot;Nota de rodapé, Subtítulo, Tít…</td><td>4</td><td>&quot;Depósito, Preço, Responsável t…</td><td>&quot;https://drive.google.com/file/…</td><td>&quot;Campos, Rio de Janeiro&quot;</td><td>&quot;N. B. — Todos os rotulos e pro…</td><td>&quot;Indefinido&quot;</td><td>null</td><td>&quot;Combater [moléstia], Curar [mo…</td><td>&quot;Depurativo (ação depurativa), …</td><td>&quot;Preço de um vidro 2$500\n",
       "Preço …</td><td>&quot;Novo depurativo&quot;</td><td>&quot;Novo depurativo extracto fluid…</td><td>&quot;-&quot;</td><td>&quot;Portadores/acometidos&quot;</td><td>7</td><td>&quot;Joaquim Manoel Venancio da Sil…</td><td>&quot;Ausente&quot;</td><td>&quot;Finalizado&quot;</td><td>&quot;Batata purgativa, Caroba iodur…</td><td>&quot;Espada, Lâmpada Mágica, Planta…</td><td>&quot;Elexir/elixir, Extrato&quot;</td><td>&quot;Bold, Caixa alta, Itálico, Reg…</td><td>&quot;Serifa&quot;</td></tr><tr><td>&quot;salsaparrilha_bristol&quot;</td><td>&quot;Centralizado, Justificado esqu…</td><td>&quot;Ausente&quot;</td><td>&quot;Vende-se em todas as pharmacia…</td><td>&quot;-&quot;</td><td>null</td><td>&quot;Mencionado&quot;</td><td>&quot;Ausente&quot;</td><td>&quot;1 coluna&quot;</td><td>&quot;Ausente&quot;</td><td>&quot;Chagas perniciosas e inveterad…</td><td>null</td><td>&quot;Clichê&quot;</td><td>null</td><td>&quot;Corpo do texto, Título princip…</td><td>5</td><td>&quot;Comercialização&quot;</td><td>&quot;https://drive.google.com/file/…</td><td>&quot;Bristol&quot;</td><td>null</td><td>&quot;Indefinido&quot;</td><td>null</td><td>&quot;Contra [a moléstia as moléstia…</td><td>&quot;Grande, Infalivel (infallivel)…</td><td>&quot;-&quot;</td><td>&quot;Produto&quot;</td><td>&quot;Salsaparrilha de bristol&quot;</td><td>&quot;-&quot;</td><td>null</td><td>2</td><td>&quot;Ausente&quot;</td><td>&quot;Ausente&quot;</td><td>&quot;Finalizado&quot;</td><td>&quot;Salsaparrilha&quot;</td><td>&quot;Ave, Chamas&quot;</td><td>&quot;Indefinido&quot;</td><td>&quot;Caixa alta, Regular&quot;</td><td>&quot;Serifa&quot;</td></tr><tr><td>&hellip;</td><td>&hellip;</td><td>&hellip;</td><td>&hellip;</td><td>&hellip;</td><td>&hellip;</td><td>&hellip;</td><td>&hellip;</td><td>&hellip;</td><td>&hellip;</td><td>&hellip;</td><td>&hellip;</td><td>&hellip;</td><td>&hellip;</td><td>&hellip;</td><td>&hellip;</td><td>&hellip;</td><td>&hellip;</td><td>&hellip;</td><td>&hellip;</td><td>&hellip;</td><td>&hellip;</td><td>&hellip;</td><td>&hellip;</td><td>&hellip;</td><td>&hellip;</td><td>&hellip;</td><td>&hellip;</td><td>&hellip;</td><td>&hellip;</td><td>&hellip;</td><td>&hellip;</td><td>&hellip;</td><td>&hellip;</td><td>&hellip;</td><td>&hellip;</td><td>&hellip;</td><td>&hellip;</td></tr><tr><td>&quot;pilulas_vermifugas_dr_oliveira&quot;</td><td>&quot;Centralizado, Justificado esqu…</td><td>&quot;Ausente&quot;</td><td>&quot;Pharmacia Ezequiel 70 - Rua do…</td><td>&quot;-&quot;</td><td>null</td><td>&quot;Mencionado&quot;</td><td>&quot;Ausente&quot;</td><td>&quot;1 coluna&quot;</td><td>&quot;Qualidade da produçao&quot;</td><td>&quot;Vermes&quot;</td><td>null</td><td>&quot;Ausente&quot;</td><td>&quot;Nenhum&quot;</td><td>&quot;Corpo do texto, Nota de rodapé…</td><td>148</td><td>&quot;Comercialização/Depósito (dúbi…</td><td>&quot;https://drive.google.com/file/…</td><td>&quot;Nenhum&quot;</td><td>&quot;preparado pharmaceutico, formu…</td><td>&quot;Indefinido&quot;</td><td>null</td><td>&quot;Expelir vermes&quot;</td><td>&quot;Específico, Poderoso(a)&quot;</td><td>&quot;Caixa 2$000&quot;</td><td>&quot;Nome do produto&quot;</td><td>&quot;Pilulas vermifugas do Dr Olive…</td><td>&quot;-&quot;</td><td>&quot;Ausente&quot;</td><td>7</td><td>&quot;Ausente&quot;</td><td>&quot;Ausente&quot;</td><td>&quot;Finalizado&quot;</td><td>&quot;Ausente&quot;</td><td>&quot;Ausente&quot;</td><td>&quot;Pilula&quot;</td><td>&quot;Bold, Caixa alta, Regular, Ver…</td><td>&quot;Sem serifa, Serifa&quot;</td></tr><tr><td>&quot;elixir_caboclo&quot;</td><td>&quot;Centralizado, Justificado esqu…</td><td>&quot;Ausente&quot;</td><td>&quot;Continua a ver vendido na chác…</td><td>&quot;-&quot;</td><td>null</td><td>&quot;Mencionado&quot;</td><td>&quot;Mencionado&quot;</td><td>&quot;1 coluna&quot;</td><td>&quot;Ausente&quot;</td><td>&quot;Rheumatismo&quot;</td><td>null</td><td>&quot;Ausente&quot;</td><td>&quot;Nenhum&quot;</td><td>&quot;Corpo do texto, Subtítulo, Tít…</td><td>152</td><td>&quot;Comercialização, Preço&quot;</td><td>&quot;https://drive.google.com/file/…</td><td>&quot;Nenhum&quot;</td><td>&quot;-&quot;</td><td>&quot;Indefinido&quot;</td><td>null</td><td>&quot;Não tem dieta, Não tem resguar…</td><td>&quot;Eficaz (efficacissimo)&quot;</td><td>&quot;2$000 sem frasco&quot;</td><td>&quot;Nome do produto&quot;</td><td>&quot;Elixir do Caboclo&quot;</td><td>&quot;-&quot;</td><td>&quot;Ausente&quot;</td><td>3</td><td>&quot;Ausente&quot;</td><td>&quot;Ausente&quot;</td><td>&quot;Finalizado&quot;</td><td>&quot;Ausente&quot;</td><td>&quot;Ausente&quot;</td><td>&quot;Elexir/elixir&quot;</td><td>&quot;Bold, Regular&quot;</td><td>&quot;Serifa&quot;</td></tr><tr><td>&quot;grageas_depurativas_maior&quot;</td><td>&quot;Centralizado&quot;</td><td>&quot;Ausente&quot;</td><td>&quot;-&quot;</td><td>&quot;Paris, (?), (?), (?), (?) (não…</td><td>null</td><td>&quot;Mencionado&quot;</td><td>&quot;Ausente&quot;</td><td>&quot;1 coluna&quot;</td><td>&quot;Ausente&quot;</td><td>&quot;Infarto (infartes), Molestias …</td><td>null</td><td>&quot;Ornamento&quot;</td><td>&quot;Medidas anti-falsificação&quot;</td><td>&quot;Corpo do texto, Título princip…</td><td>149</td><td>&quot;Depósito, Responsável técnico/…</td><td>&quot;https://drive.google.com/file/…</td><td>&quot;Nenhum&quot;</td><td>&quot;CUMPRE DESCONFIAR das CONTRAFA…</td><td>&quot;Indefinido&quot;</td><td>&quot;grageas_depurativas_ioduradas_…</td><td>&quot;Ausente&quot;</td><td>&quot;Activo, Agradável, Depurativo,…</td><td>&quot;-&quot;</td><td>&quot;[Moléstia]&quot;</td><td>&quot;Gragêas depurativas iodurados …</td><td>&quot;-&quot;</td><td>&quot;Ausente&quot;</td><td>7</td><td>&quot;Dr. Gibert&quot;</td><td>&quot;Ausente&quot;</td><td>&quot;Finalizado&quot;</td><td>&quot;Iodo&quot;</td><td>&quot;Ausente&quot;</td><td>&quot;Gragea&quot;</td><td>&quot;Bold, Itálico, Regular&quot;</td><td>&quot;Serifa&quot;</td></tr><tr><td>&quot;licor_centaurea_2&quot;</td><td>&quot;Centralizado&quot;</td><td>&quot;Ausente&quot;</td><td>&quot;-&quot;</td><td>&quot;Menciona 16 endereços de depós…</td><td>&quot;licor_centaurea_3 (https://www…</td><td>&quot;Mencionado&quot;</td><td>&quot;Ausente&quot;</td><td>&quot;2 colunas&quot;</td><td>&quot;Ausente&quot;</td><td>&quot;Colicas, Enxaqueca, Fástio, Ga…</td><td>null</td><td>&quot;Fios, Outro&quot;</td><td>&quot;Prospecto [directorio]&quot;</td><td>&quot;Corpo do texto, Nota de rodapé…</td><td>150</td><td>&quot;Depósito, Preço, Responsável t…</td><td>&quot;https://drive.google.com/file/…</td><td>&quot;Bom-Jesus do Itabapoana, Cacho…</td><td>null</td><td>&quot;Indefinido&quot;</td><td>null</td><td>&quot;para [moléstia]&quot;</td><td>&quot;Aconselhado, Heroico, Uza-se a…</td><td>&quot;1 garrafa 2$500 e 1 caixa com …</td><td>&quot;Produto&quot;</td><td>&quot;Licor de centaurea&quot;</td><td>&quot;-&quot;</td><td>&quot;Ausente&quot;</td><td>10</td><td>&quot;B. Delgado [Delgado]&quot;</td><td>&quot;Ausente&quot;</td><td>&quot;Finalizado&quot;</td><td>&quot;Ausente&quot;</td><td>&quot;Ausente&quot;</td><td>&quot;Licor&quot;</td><td>&quot;Bold, Caixa alta, Itálico, Reg…</td><td>&quot;Fantasia, Serifa&quot;</td></tr><tr><td>&quot;licor_centaurea_3&quot;</td><td>&quot;Centralizado, Justificado esqu…</td><td>&quot;Ausente&quot;</td><td>&quot;-&quot;</td><td>&quot;44 - Rua do Conselho - 44 Camp…</td><td>null</td><td>&quot;Mencionado&quot;</td><td>&quot;Ausente&quot;</td><td>&quot;1 coluna&quot;</td><td>&quot;Ausente&quot;</td><td>&quot;Colicas, Enxaqueca, Fástio, Ga…</td><td>null</td><td>&quot;Fios, Outro&quot;</td><td>&quot;Prospecto [directorio]&quot;</td><td>&quot;Corpo do texto, Título princip…</td><td>151</td><td>&quot;Comercialização/Depósito (dúbi…</td><td>&quot;https://drive.google.com/file/…</td><td>&quot;Campos, Rio de Janeiro&quot;</td><td>null</td><td>&quot;Indefinido&quot;</td><td>&quot;licor_centaurea_2 (https://www…</td><td>&quot;para [moléstia]&quot;</td><td>&quot;Aconselhado, Heroico, Uza-se a…</td><td>&quot;1 garrafa 2$500 e 1 caixa com …</td><td>&quot;Produto&quot;</td><td>&quot;Licor de centaurea &quot;</td><td>&quot;-&quot;</td><td>&quot;Ausente&quot;</td><td>10</td><td>&quot;B. Delgado [Delgado]&quot;</td><td>&quot;Ausente&quot;</td><td>&quot;Finalizado&quot;</td><td>&quot;Ausente&quot;</td><td>&quot;Ausente&quot;</td><td>&quot;Licor&quot;</td><td>&quot;Bold, Caixa alta, Itálico, Reg…</td><td>&quot;Fantasia, Serifa&quot;</td></tr></tbody></table></div>"
      ],
      "text/plain": [
       "shape: (152, 38)\n",
       "┌───────────┬───────────┬───────────┬───────────┬───┬───────────┬───────────┬───────────┬──────────┐\n",
       "│ Identific ┆ Alinhamen ┆ Autorizaç ┆ Comercial ┆ … ┆ Tipificaç ┆ Tipo de   ┆ Variação  ┆ Variação │\n",
       "│ ador      ┆ to        ┆ ões       ┆ ização    ┆   ┆ ão da     ┆ produto   ┆ tipográfi ┆ typeface │\n",
       "│ ---       ┆ ---       ┆ ---       ┆ ---       ┆   ┆ imagem    ┆ ---       ┆ ca        ┆ ---      │\n",
       "│ str       ┆ str       ┆ str       ┆ str       ┆   ┆ (aprox.)  ┆ str       ┆ ---       ┆ str      │\n",
       "│           ┆           ┆           ┆           ┆   ┆ ---       ┆           ┆ str       ┆          │\n",
       "│           ┆           ┆           ┆           ┆   ┆ str       ┆           ┆           ┆          │\n",
       "╞═══════════╪═══════════╪═══════════╪═══════════╪═══╪═══════════╪═══════════╪═══════════╪══════════╡\n",
       "│ oleo_figa ┆ Centraliz ┆ Ausente   ┆ Vende-se  ┆ … ┆ Animal,   ┆ Oleo      ┆ Caixa     ┆ Serifa   │\n",
       "│ do_bacalh ┆ ado, Just ┆           ┆ em todas  ┆   ┆ Peixe     ┆           ┆ alta,     ┆          │\n",
       "│ au        ┆ ificado   ┆           ┆ as pharma ┆   ┆           ┆           ┆ Regular   ┆          │\n",
       "│           ┆ esqu…     ┆           ┆ cia…      ┆   ┆           ┆           ┆           ┆          │\n",
       "│ tonico_or ┆ Centraliz ┆ Ausente   ┆ Vende-se  ┆ … ┆ Figura    ┆ Tonico    ┆ Bold,     ┆ Serifa   │\n",
       "│ iental_ca ┆ ado, Just ┆           ┆ em todas  ┆   ┆ Humana    ┆           ┆ Caixa     ┆          │\n",
       "│ bello     ┆ ificado   ┆           ┆ as pharma ┆   ┆           ┆           ┆ alta,     ┆          │\n",
       "│           ┆ esqu…     ┆           ┆ cia…      ┆   ┆           ┆           ┆ Regular   ┆          │\n",
       "│ pilulas_v ┆ Centraliz ┆ Ausente   ┆ Vende-se  ┆ … ┆ Represent ┆ Pilula    ┆ Bold,     ┆ Serifa   │\n",
       "│ egeates_a ┆ ado, Just ┆           ┆ em todas  ┆   ┆ ação do   ┆           ┆ Regular   ┆          │\n",
       "│ ssucarada ┆ ificado   ┆           ┆ as farmác ┆   ┆ produto,  ┆           ┆           ┆          │\n",
       "│ s_b…      ┆ esqu…     ┆           ┆ ias…      ┆   ┆ Vidr…     ┆           ┆           ┆          │\n",
       "│ og_novo_d ┆ Alinhado  ┆ Ausente   ┆ -         ┆ … ┆ Espada,   ┆ Elexir/el ┆ Bold,     ┆ Serifa   │\n",
       "│ epurativo ┆ direita,  ┆           ┆           ┆   ┆ Lâmpada   ┆ ixir,     ┆ Caixa     ┆          │\n",
       "│ _extracto ┆ Centraliz ┆           ┆           ┆   ┆ Mágica,   ┆ Extrato   ┆ alta,     ┆          │\n",
       "│ _sa…      ┆ ado…      ┆           ┆           ┆   ┆ Planta…   ┆           ┆ Itálico,  ┆          │\n",
       "│           ┆           ┆           ┆           ┆   ┆           ┆           ┆ Reg…      ┆          │\n",
       "│ salsaparr ┆ Centraliz ┆ Ausente   ┆ Vende-se  ┆ … ┆ Ave,      ┆ Indefinid ┆ Caixa     ┆ Serifa   │\n",
       "│ ilha_bris ┆ ado, Just ┆           ┆ em todas  ┆   ┆ Chamas    ┆ o         ┆ alta,     ┆          │\n",
       "│ tol       ┆ ificado   ┆           ┆ as pharma ┆   ┆           ┆           ┆ Regular   ┆          │\n",
       "│           ┆ esqu…     ┆           ┆ cia…      ┆   ┆           ┆           ┆           ┆          │\n",
       "│ …         ┆ …         ┆ …         ┆ …         ┆ … ┆ …         ┆ …         ┆ …         ┆ …        │\n",
       "│ pilulas_v ┆ Centraliz ┆ Ausente   ┆ Pharmacia ┆ … ┆ Ausente   ┆ Pilula    ┆ Bold,     ┆ Sem      │\n",
       "│ ermifugas ┆ ado, Just ┆           ┆ Ezequiel  ┆   ┆           ┆           ┆ Caixa     ┆ serifa,  │\n",
       "│ _dr_olive ┆ ificado   ┆           ┆ 70 - Rua  ┆   ┆           ┆           ┆ alta,     ┆ Serifa   │\n",
       "│ ira       ┆ esqu…     ┆           ┆ do…       ┆   ┆           ┆           ┆ Regular,  ┆          │\n",
       "│           ┆           ┆           ┆           ┆   ┆           ┆           ┆ Ver…      ┆          │\n",
       "│ elixir_ca ┆ Centraliz ┆ Ausente   ┆ Continua  ┆ … ┆ Ausente   ┆ Elexir/el ┆ Bold,     ┆ Serifa   │\n",
       "│ boclo     ┆ ado, Just ┆           ┆ a ver     ┆   ┆           ┆ ixir      ┆ Regular   ┆          │\n",
       "│           ┆ ificado   ┆           ┆ vendido   ┆   ┆           ┆           ┆           ┆          │\n",
       "│           ┆ esqu…     ┆           ┆ na chác…  ┆   ┆           ┆           ┆           ┆          │\n",
       "│ grageas_d ┆ Centraliz ┆ Ausente   ┆ -         ┆ … ┆ Ausente   ┆ Gragea    ┆ Bold,     ┆ Serifa   │\n",
       "│ epurativa ┆ ado       ┆           ┆           ┆   ┆           ┆           ┆ Itálico,  ┆          │\n",
       "│ s_maior   ┆           ┆           ┆           ┆   ┆           ┆           ┆ Regular   ┆          │\n",
       "│ licor_cen ┆ Centraliz ┆ Ausente   ┆ -         ┆ … ┆ Ausente   ┆ Licor     ┆ Bold,     ┆ Fantasia │\n",
       "│ taurea_2  ┆ ado       ┆           ┆           ┆   ┆           ┆           ┆ Caixa     ┆ , Serifa │\n",
       "│           ┆           ┆           ┆           ┆   ┆           ┆           ┆ alta,     ┆          │\n",
       "│           ┆           ┆           ┆           ┆   ┆           ┆           ┆ Itálico,  ┆          │\n",
       "│           ┆           ┆           ┆           ┆   ┆           ┆           ┆ Reg…      ┆          │\n",
       "│ licor_cen ┆ Centraliz ┆ Ausente   ┆ -         ┆ … ┆ Ausente   ┆ Licor     ┆ Bold,     ┆ Fantasia │\n",
       "│ taurea_3  ┆ ado, Just ┆           ┆           ┆   ┆           ┆           ┆ Caixa     ┆ , Serifa │\n",
       "│           ┆ ificado   ┆           ┆           ┆   ┆           ┆           ┆ alta,     ┆          │\n",
       "│           ┆ esqu…     ┆           ┆           ┆   ┆           ┆           ┆ Itálico,  ┆          │\n",
       "│           ┆           ┆           ┆           ┆   ┆           ┆           ┆ Reg…      ┆          │\n",
       "└───────────┴───────────┴───────────┴───────────┴───┴───────────┴───────────┴───────────┴──────────┘"
      ]
     },
     "execution_count": 3,
     "metadata": {},
     "output_type": "execute_result"
    }
   ],
   "source": [
    "ad_analysis_raw"
   ]
  },
  {
   "cell_type": "code",
   "execution_count": 4,
   "id": "5ffb9d70-80be-42dc-8659-fe549f75a920",
   "metadata": {},
   "outputs": [],
   "source": [
    "schema_analysis_sheet = [\n",
    "  # a. Identificação do objeto \n",
    " 'Identificador',\n",
    " 'ID',\n",
    " 'Link',\n",
    "    \n",
    " 'Produto ofertado (título completo)',\n",
    " 'Primeiras palavras do anúncio',\n",
    " 'Doença mencionada',\n",
    " 'Tipo de produto',\n",
    " 'Substâncias',\n",
    " 'Extras',\n",
    "    \n",
    " # b. Indentificação do contexto\n",
    " 'Informações indicativas',\n",
    " 'Menções a lugares',\n",
    " 'Origem',\n",
    " 'Preço',\n",
    " 'Responsável técnico',\n",
    " 'Comercialização',\n",
    " 'Depósito',\n",
    " 'Produção',\n",
    "    \n",
    "  # c. Identificação do discurso\n",
    " 'Palavra-chave efeito',\n",
    " 'Palavras-chave produto',\n",
    " 'Discursos de autoridade',\n",
    " 'Público mencionado',\n",
    " 'Detalhamento do efeito',\n",
    " 'Detalhamento forma de uso',\n",
    " 'Autorizações',\n",
    " 'Observações',\n",
    "\n",
    "\n",
    " # d. Identificação gráfica\n",
    " 'Sinal visual de autoridade',\n",
    " 'Quantidade de variações tipográficas (aprox.)',\n",
    " 'Variação typeface',\n",
    " 'Variação tipográfica',\n",
    " 'Alinhamento',\n",
    " 'Diagramação',\n",
    " 'Hieraquia da informação',\n",
    " 'Tipificação da imagem (aprox.)',\n",
    " 'Elementos de composição',\n",
    "\n",
    " #   \n",
    " 'Original (primeira aparição)',\n",
    " 'Derivados',\n",
    " \n",
    " 'Status',\n",
    " 'Dúvidas',\n",
    "]\n",
    "\n",
    "multi_select_columns = [\n",
    " 'Primeiras palavras do anúncio',\n",
    " 'Doença mencionada',\n",
    " 'Tipo de produto',\n",
    " 'Substâncias',\n",
    " 'Extras',\n",
    "    \n",
    " # b. Indentificação do contexto\n",
    " 'Informações indicativas',\n",
    " 'Menções a lugares',\n",
    " 'Origem',\n",
    " 'Responsável técnico',\n",
    "    \n",
    "  # c. Identificação do discurso\n",
    " 'Palavra-chave efeito',\n",
    " 'Palavras-chave produto',\n",
    " 'Discursos de autoridade',\n",
    " 'Público mencionado',\n",
    " 'Detalhamento do efeito',\n",
    " 'Detalhamento forma de uso',\n",
    " 'Autorizações',\n",
    "\n",
    " # d. Identificação gráfica\n",
    " 'Sinal visual de autoridade',\n",
    " 'Variação typeface',\n",
    " 'Variação tipográfica',\n",
    " 'Alinhamento',\n",
    " 'Diagramação',\n",
    " 'Hieraquia da informação',\n",
    " 'Tipificação da imagem (aprox.)',\n",
    " 'Elementos de composição',\n",
    "]\n",
    "\n",
    "single_value_columns = [col for col in schema_analysis_sheet if col not in multi_select_columns]"
   ]
  },
  {
   "cell_type": "code",
   "execution_count": 5,
   "id": "32aed2bc-9438-4ff4-b640-f8e49fc52a45",
   "metadata": {
    "scrolled": true
   },
   "outputs": [
    {
     "data": {
      "text/html": [
       "<div><style>\n",
       ".dataframe > thead > tr,\n",
       ".dataframe > tbody > tr {\n",
       "  text-align: right;\n",
       "  white-space: pre-wrap;\n",
       "}\n",
       "</style>\n",
       "<small>shape: (152, 38)</small><table border=\"1\" class=\"dataframe\"><thead><tr><th>Identificador</th><th>ID</th><th>Link</th><th>Produto ofertado (título completo)</th><th>Primeiras palavras do anúncio</th><th>Doença mencionada</th><th>Tipo de produto</th><th>Substâncias</th><th>Extras</th><th>Informações indicativas</th><th>Menções a lugares</th><th>Origem</th><th>Preço</th><th>Responsável técnico</th><th>Comercialização</th><th>Depósito</th><th>Produção</th><th>Palavra-chave efeito</th><th>Palavras-chave produto</th><th>Discursos de autoridade</th><th>Público mencionado</th><th>Detalhamento do efeito</th><th>Detalhamento forma de uso</th><th>Autorizações</th><th>Observações</th><th>Sinal visual de autoridade</th><th>Quantidade de variações tipográficas (aprox.)</th><th>Variação typeface</th><th>Variação tipográfica</th><th>Alinhamento</th><th>Diagramação</th><th>Hieraquia da informação</th><th>Tipificação da imagem (aprox.)</th><th>Elementos de composição</th><th>Original (primeira aparição)</th><th>Derivados</th><th>Status</th><th>Dúvidas</th></tr><tr><td>str</td><td>i64</td><td>str</td><td>str</td><td>list[str]</td><td>list[str]</td><td>list[str]</td><td>list[str]</td><td>list[str]</td><td>list[str]</td><td>list[str]</td><td>list[str]</td><td>str</td><td>list[str]</td><td>str</td><td>str</td><td>str</td><td>list[str]</td><td>list[str]</td><td>list[str]</td><td>list[str]</td><td>list[str]</td><td>list[str]</td><td>list[str]</td><td>str</td><td>list[str]</td><td>i64</td><td>list[str]</td><td>list[str]</td><td>list[str]</td><td>list[str]</td><td>list[str]</td><td>list[str]</td><td>list[str]</td><td>str</td><td>str</td><td>str</td><td>str</td></tr></thead><tbody><tr><td>&quot;oleo_figado_bacalhau&quot;</td><td>1</td><td>&quot;https://drive.google.com/file/…</td><td>&quot;Oleo puro de figado de bacalha…</td><td>[&quot;Produto&quot;]</td><td>[&quot;Tisica (Tysica)&quot;]</td><td>[&quot;Oleo&quot;]</td><td>[&quot;Iodo&quot;, &quot;Oleo de figado de bacalhau&quot;]</td><td>[&quot;Nenhum&quot;]</td><td>[&quot;Comercialização&quot;, &quot;Responsável técnico/preparado por/Pharmaceutico&quot;]</td><td>[&quot;Bancos da terra nova&quot;, &quot;NY&quot;]</td><td>[&quot;Indefinido&quot;]</td><td>&quot;-&quot;</td><td>[&quot;Lanman &amp; Kemp&quot;]</td><td>&quot;Vende-se em todas as pharmacia…</td><td>&quot;-&quot;</td><td>&quot;-&quot;</td><td>[&quot;Comunica cores saudáveis&quot;, &quot;Efeitos admiráveis&quot;, … &quot;Fortalece&quot;]</td><td>[&quot;Puro&quot;]</td><td>[&quot;Qualidade da produçao&quot;, &quot;Qualidade dos ingredientes&quot;]</td><td>[&quot;Crianças (creanças)&quot;, &quot;Geral&quot;]</td><td>[&quot;Detalhado&quot;]</td><td>[&quot;Ausente&quot;]</td><td>[&quot;Ausente&quot;]</td><td>null</td><td>[&quot;Ausente&quot;]</td><td>5</td><td>[&quot;Serifa&quot;]</td><td>[&quot;Caixa alta&quot;, &quot;Regular&quot;]</td><td>[&quot;Centralizado&quot;, &quot;Justificado esquerda&quot;]</td><td>[&quot;1 coluna&quot;]</td><td>[&quot;Corpo do texto&quot;, &quot;Subtítulo&quot;, &quot;Título principal&quot;]</td><td>[&quot;Animal&quot;, &quot;Peixe&quot;]</td><td>[&quot;Clichê&quot;]</td><td>null</td><td>null</td><td>&quot;Finalizado&quot;</td><td>null</td></tr><tr><td>&quot;tonico_oriental_cabello&quot;</td><td>2</td><td>&quot;https://drive.google.com/file/…</td><td>&quot;O tonico oriental para o cabel…</td><td>[&quot;Produto&quot;]</td><td>[&quot;Caspa&quot;, &quot;Cãs&quot;, … &quot;Tinha&quot;]</td><td>[&quot;Tonico&quot;]</td><td>[&quot;Ausente&quot;]</td><td>[&quot;Nenhum&quot;]</td><td>[&quot;Comercialização&quot;]</td><td>[&quot;Nenhum&quot;]</td><td>[&quot;Indefinido&quot;]</td><td>&quot;-&quot;</td><td>[&quot;Ausente&quot;]</td><td>&quot;Vende-se em todas as pharmacia…</td><td>&quot;-&quot;</td><td>&quot;-&quot;</td><td>[&quot;Conservar [desejável]&quot;, &quot;Evitar [moléstia]&quot;, &quot;Extirpar [moléstia]&quot;]</td><td>[&quot;Agradável&quot;, &quot;Fragrante&quot;]</td><td>[&quot;Ausente&quot;]</td><td>[&quot;Ausente&quot;]</td><td>[&quot;Detalhado&quot;]</td><td>[&quot;Ausente&quot;]</td><td>[&quot;Ausente&quot;]</td><td>null</td><td>[&quot;Ausente&quot;]</td><td>4</td><td>[&quot;Serifa&quot;]</td><td>[&quot;Bold&quot;, &quot;Caixa alta&quot;, &quot;Regular&quot;]</td><td>[&quot;Centralizado&quot;, &quot;Justificado esquerda&quot;]</td><td>[&quot;1 coluna&quot;]</td><td>[&quot;Corpo do texto&quot;, &quot;Título principal&quot;]</td><td>[&quot;Figura Humana&quot;]</td><td>[&quot;Clichê&quot;]</td><td>null</td><td>null</td><td>&quot;Finalizado&quot;</td><td>null</td></tr><tr><td>&quot;pilulas_vegeates_assucaradas_b…</td><td>3</td><td>&quot;https://drive.google.com/file/…</td><td>&quot;Pilulas vegetaes assucaradas d…</td><td>[&quot;Produto&quot;]</td><td>[&quot;Affecção do figado estômago e rins&quot;, &quot;Cardialgia&quot;, … &quot;Tossas [tosse] [tosses]&quot;]</td><td>[&quot;Pilula&quot;]</td><td>[&quot;Leptandrina&quot;, &quot;Popophilina&quot;]</td><td>[&quot;Nenhum&quot;]</td><td>[&quot;Comercialização&quot;]</td><td>[&quot;Nenhum&quot;]</td><td>[&quot;Indefinido&quot;]</td><td>&quot;-&quot;</td><td>[&quot;Ausente&quot;]</td><td>&quot;Vende-se em todas as farmácias…</td><td>&quot;-&quot;</td><td>&quot;-&quot;</td><td>[&quot;Contra [a moléstia as moléstias]&quot;]</td><td>[&quot;Eficaz (efficacissimo)&quot;, &quot;Poderoso(a)&quot;]</td><td>[&quot;Qualidade dos ingredientes&quot;]</td><td>[&quot;Ausente&quot;]</td><td>[&quot;Mencionado&quot;]</td><td>[&quot;Ausente&quot;]</td><td>[&quot;Ausente&quot;]</td><td>null</td><td>[&quot;Ausente&quot;]</td><td>4</td><td>[&quot;Serifa&quot;]</td><td>[&quot;Bold&quot;, &quot;Regular&quot;]</td><td>[&quot;Centralizado&quot;, &quot;Justificado esquerda&quot;]</td><td>[&quot;1 coluna&quot;]</td><td>[&quot;Corpo do texto&quot;, &quot;Título principal&quot;]</td><td>[&quot;Representação do produto&quot;, &quot;Vidraria&quot;]</td><td>[&quot;Clichê&quot;]</td><td>null</td><td>null</td><td>&quot;Finalizado&quot;</td><td>null</td></tr><tr><td>&quot;og_novo_depurativo_extracto_sa…</td><td>4</td><td>&quot;https://drive.google.com/file/…</td><td>&quot;Novo depurativo extracto fluid…</td><td>[&quot;Novo depurativo&quot;]</td><td>[&quot;Blenorrhagias&quot;, &quot;Darthros&quot;, … &quot;Ulceras syphiliticas&quot;]</td><td>[&quot;Elexir/elixir&quot;, &quot;Extrato&quot;]</td><td>[&quot;Batata purgativa&quot;, &quot;Caroba iodurado&quot;, &quot;Salsaparrilha&quot;]</td><td>[&quot;Sugestão de uso coadjuvante com outro medicamento&quot;]</td><td>[&quot;Depósito&quot;, &quot;Preço&quot;, &quot;Responsável técnico/preparado por/Pharmaceutico&quot;]</td><td>[&quot;Campos&quot;, &quot;Rio de Janeiro&quot;]</td><td>[&quot;Indefinido&quot;]</td><td>&quot;Preço de um vidro 2$500\n",
       "Preço …</td><td>[&quot;Joaquim Manoel Venancio da Silva (pharmaceutico chimico pela Faculdadde de Medicina do Rio de Janeiro)&quot;]</td><td>&quot;-&quot;</td><td>&quot;DEPOSITO:—Pharmacia de Vicente…</td><td>&quot;-&quot;</td><td>[&quot;Combater [moléstia]&quot;, &quot;Curar [moléstia] (cura [moléstia]&nbsp;&nbsp;cura-se [moléstia])&quot;]</td><td>[&quot;Depurativo (ação depurativa)&quot;, &quot;Depurativo do sangue&quot;, … &quot;dos melhores medicamentos até hoje conhecidos para combater taes efermidades&quot;]</td><td>[&quot;Apelo ao &quot;natural&quot;&quot;, &quot;Qualidade dos ingredientes&quot;]</td><td>[&quot;Portadores/acometidos&quot;]</td><td>[&quot;Detalhado&quot;]</td><td>[&quot;Ausente&quot;]</td><td>[&quot;Ausente&quot;]</td><td>&quot;N. B. — Todos os rotulos e pro…</td><td>[&quot;Ausente&quot;]</td><td>7</td><td>[&quot;Serifa&quot;]</td><td>[&quot;Bold&quot;, &quot;Caixa alta&quot;, … &quot;Regular&quot;]</td><td>[&quot;Alinhado direita&quot;, &quot;Centralizado&quot;, &quot;Justificado esquerda&quot;]</td><td>[&quot;1 coluna&quot;]</td><td>[&quot;Nota de rodapé&quot;, &quot;Subtítulo&quot;, … &quot;Título secundário&quot;]</td><td>[&quot;Espada&quot;, &quot;Lâmpada Mágica&quot;, … &quot;Serpente&quot;]</td><td>[&quot;Clichê&quot;]</td><td>null</td><td>&quot;novo_depurativo_extracto_salsa…</td><td>&quot;Finalizado&quot;</td><td>null</td></tr><tr><td>&quot;salsaparrilha_bristol&quot;</td><td>5</td><td>&quot;https://drive.google.com/file/…</td><td>&quot;Salsaparrilha de bristol&quot;</td><td>[&quot;Produto&quot;]</td><td>[&quot;Chagas perniciosas e inveteradas&quot;, &quot;Debilisdade geral do systema&quot;, … &quot;Tumores&quot;]</td><td>[&quot;Indefinido&quot;]</td><td>[&quot;Salsaparrilha&quot;]</td><td>null</td><td>[&quot;Comercialização&quot;]</td><td>[&quot;Bristol&quot;]</td><td>[&quot;Indefinido&quot;]</td><td>&quot;-&quot;</td><td>[&quot;Ausente&quot;]</td><td>&quot;Vende-se em todas as pharmacia…</td><td>&quot;-&quot;</td><td>&quot;-&quot;</td><td>[&quot;Contra [a moléstia as moléstias]&quot;]</td><td>[&quot;Grande&quot;, &quot;Infalivel (infallivel)&quot;, &quot;Purificador do sangue&quot;]</td><td>[&quot;Ausente&quot;]</td><td>null</td><td>[&quot;Mencionado&quot;]</td><td>[&quot;Ausente&quot;]</td><td>[&quot;Ausente&quot;]</td><td>null</td><td>[&quot;Ausente&quot;]</td><td>2</td><td>[&quot;Serifa&quot;]</td><td>[&quot;Caixa alta&quot;, &quot;Regular&quot;]</td><td>[&quot;Centralizado&quot;, &quot;Justificado esquerda&quot;]</td><td>[&quot;1 coluna&quot;]</td><td>[&quot;Corpo do texto&quot;, &quot;Título principal&quot;]</td><td>[&quot;Ave&quot;, &quot;Chamas&quot;]</td><td>[&quot;Clichê&quot;]</td><td>null</td><td>null</td><td>&quot;Finalizado&quot;</td><td>null</td></tr><tr><td>&hellip;</td><td>&hellip;</td><td>&hellip;</td><td>&hellip;</td><td>&hellip;</td><td>&hellip;</td><td>&hellip;</td><td>&hellip;</td><td>&hellip;</td><td>&hellip;</td><td>&hellip;</td><td>&hellip;</td><td>&hellip;</td><td>&hellip;</td><td>&hellip;</td><td>&hellip;</td><td>&hellip;</td><td>&hellip;</td><td>&hellip;</td><td>&hellip;</td><td>&hellip;</td><td>&hellip;</td><td>&hellip;</td><td>&hellip;</td><td>&hellip;</td><td>&hellip;</td><td>&hellip;</td><td>&hellip;</td><td>&hellip;</td><td>&hellip;</td><td>&hellip;</td><td>&hellip;</td><td>&hellip;</td><td>&hellip;</td><td>&hellip;</td><td>&hellip;</td><td>&hellip;</td><td>&hellip;</td></tr><tr><td>&quot;pilulas_vermifugas_dr_oliveira&quot;</td><td>148</td><td>&quot;https://drive.google.com/file/…</td><td>&quot;Pilulas vermifugas do Dr Olive…</td><td>[&quot;Nome do produto&quot;]</td><td>[&quot;Vermes&quot;]</td><td>[&quot;Pilula&quot;]</td><td>[&quot;Ausente&quot;]</td><td>[&quot;Nenhum&quot;]</td><td>[&quot;Comercialização/Depósito (dúbia)&quot;, &quot;Preço&quot;]</td><td>[&quot;Nenhum&quot;]</td><td>[&quot;Indefinido&quot;]</td><td>&quot;Caixa 2$000&quot;</td><td>[&quot;Ausente&quot;]</td><td>&quot;Pharmacia Ezequiel 70 - Rua do…</td><td>&quot;-&quot;</td><td>&quot;-&quot;</td><td>[&quot;Expelir vermes&quot;]</td><td>[&quot;Específico&quot;, &quot;Poderoso(a)&quot;]</td><td>[&quot;Qualidade da produçao&quot;]</td><td>[&quot;Ausente&quot;]</td><td>[&quot;Mencionado&quot;]</td><td>[&quot;Ausente&quot;]</td><td>[&quot;Ausente&quot;]</td><td>&quot;preparado pharmaceutico, formu…</td><td>[&quot;Ausente&quot;]</td><td>7</td><td>[&quot;Sem serifa&quot;, &quot;Serifa&quot;]</td><td>[&quot;Bold&quot;, &quot;Caixa alta&quot;, … &quot;Versalete&quot;]</td><td>[&quot;Centralizado&quot;, &quot;Justificado esquerda&quot;]</td><td>[&quot;1 coluna&quot;]</td><td>[&quot;Corpo do texto&quot;, &quot;Nota de rodapé&quot;, &quot;Título principal&quot;]</td><td>[&quot;Ausente&quot;]</td><td>[&quot;Ausente&quot;]</td><td>null</td><td>null</td><td>&quot;Finalizado&quot;</td><td>null</td></tr><tr><td>&quot;elixir_caboclo&quot;</td><td>152</td><td>&quot;https://drive.google.com/file/…</td><td>&quot;Elixir do Caboclo&quot;</td><td>[&quot;Nome do produto&quot;]</td><td>[&quot;Rheumatismo&quot;]</td><td>[&quot;Elexir/elixir&quot;]</td><td>[&quot;Ausente&quot;]</td><td>[&quot;Nenhum&quot;]</td><td>[&quot;Comercialização&quot;, &quot;Preço&quot;]</td><td>[&quot;Nenhum&quot;]</td><td>[&quot;Indefinido&quot;]</td><td>&quot;2$000 sem frasco&quot;</td><td>[&quot;Ausente&quot;]</td><td>&quot;Continua a ver vendido na chác…</td><td>&quot;-&quot;</td><td>&quot;-&quot;</td><td>[&quot;Não tem dieta&quot;, &quot;Não tem resguardo&quot;]</td><td>[&quot;Eficaz (efficacissimo)&quot;]</td><td>[&quot;Ausente&quot;]</td><td>[&quot;Ausente&quot;]</td><td>[&quot;Mencionado&quot;]</td><td>[&quot;Mencionado&quot;]</td><td>[&quot;Ausente&quot;]</td><td>&quot;-&quot;</td><td>[&quot;Ausente&quot;]</td><td>3</td><td>[&quot;Serifa&quot;]</td><td>[&quot;Bold&quot;, &quot;Regular&quot;]</td><td>[&quot;Centralizado&quot;, &quot;Justificado esquerda&quot;]</td><td>[&quot;1 coluna&quot;]</td><td>[&quot;Corpo do texto&quot;, &quot;Subtítulo&quot;, &quot;Título principal&quot;]</td><td>[&quot;Ausente&quot;]</td><td>[&quot;Ausente&quot;]</td><td>null</td><td>null</td><td>&quot;Finalizado&quot;</td><td>null</td></tr><tr><td>&quot;grageas_depurativas_maior&quot;</td><td>149</td><td>&quot;https://drive.google.com/file/…</td><td>&quot;Gragêas depurativas iodurados …</td><td>[&quot;[Moléstia]&quot;]</td><td>[&quot;Infarto (infartes)&quot;, &quot;Molestias pelle&quot;, … &quot;Ulceras&quot;]</td><td>[&quot;Gragea&quot;]</td><td>[&quot;Iodo&quot;]</td><td>[&quot;Medidas anti-falsificação&quot;]</td><td>[&quot;Depósito&quot;, &quot;Responsável técnico/preparado por/Pharmaceutico&quot;]</td><td>[&quot;Nenhum&quot;]</td><td>[&quot;Indefinido&quot;]</td><td>&quot;-&quot;</td><td>[&quot;Dr. Gibert&quot;]</td><td>&quot;-&quot;</td><td>&quot;Paris, (?), (?), (?), (?) (não…</td><td>&quot;-&quot;</td><td>[&quot;Ausente&quot;]</td><td>[&quot;Activo&quot;, &quot;Agradável&quot;, … &quot;Verdadeiro&quot;]</td><td>[&quot;Ausente&quot;]</td><td>[&quot;Ausente&quot;]</td><td>[&quot;Mencionado&quot;]</td><td>[&quot;Ausente&quot;]</td><td>[&quot;Ausente&quot;]</td><td>&quot;CUMPRE DESCONFIAR das CONTRAFA…</td><td>[&quot;Ausente&quot;]</td><td>7</td><td>[&quot;Serifa&quot;]</td><td>[&quot;Bold&quot;, &quot;Itálico&quot;, &quot;Regular&quot;]</td><td>[&quot;Centralizado&quot;]</td><td>[&quot;1 coluna&quot;]</td><td>[&quot;Corpo do texto&quot;, &quot;Título principal&quot;]</td><td>[&quot;Ausente&quot;]</td><td>[&quot;Ornamento&quot;]</td><td>&quot;grageas_depurativas_ioduradas_…</td><td>null</td><td>&quot;Finalizado&quot;</td><td>null</td></tr><tr><td>&quot;licor_centaurea_2&quot;</td><td>150</td><td>&quot;https://drive.google.com/file/…</td><td>&quot;Licor de centaurea&quot;</td><td>[&quot;Produto&quot;]</td><td>[&quot;Colicas&quot;, &quot;Enxaqueca&quot;, … &quot;Molestias estomago&quot;]</td><td>[&quot;Licor&quot;]</td><td>[&quot;Ausente&quot;]</td><td>[&quot;Prospecto [directorio]&quot;]</td><td>[&quot;Depósito&quot;, &quot;Preço&quot;, &quot;Responsável técnico/preparado por/Pharmaceutico&quot;]</td><td>[&quot;Bom-Jesus do Itabapoana&quot;, &quot;Cachoeiros&quot;, … &quot;S. João Del Rei&quot;]</td><td>[&quot;Indefinido&quot;]</td><td>&quot;1 garrafa 2$500 e 1 caixa com …</td><td>[&quot;B. Delgado [Delgado]&quot;]</td><td>&quot;-&quot;</td><td>&quot;Menciona 16 endereços de depós…</td><td>&quot;-&quot;</td><td>[&quot;para [moléstia]&quot;]</td><td>[&quot;Aconselhado&quot;, &quot;Heroico&quot;, &quot;Uza-se a vontade&quot;]</td><td>[&quot;Ausente&quot;]</td><td>[&quot;Ausente&quot;]</td><td>[&quot;Mencionado&quot;]</td><td>[&quot;Ausente&quot;]</td><td>[&quot;Ausente&quot;]</td><td>null</td><td>[&quot;Ausente&quot;]</td><td>10</td><td>[&quot;Fantasia&quot;, &quot;Serifa&quot;]</td><td>[&quot;Bold&quot;, &quot;Caixa alta&quot;, … &quot;Regular&quot;]</td><td>[&quot;Centralizado&quot;]</td><td>[&quot;2 colunas&quot;]</td><td>[&quot;Corpo do texto&quot;, &quot;Nota de rodapé&quot;, … &quot;Título secundário&quot;]</td><td>[&quot;Ausente&quot;]</td><td>[&quot;Fios&quot;, &quot;Outro&quot;]</td><td>null</td><td>&quot;licor_centaurea_3 (https://www…</td><td>&quot;Finalizado&quot;</td><td>null</td></tr><tr><td>&quot;licor_centaurea_3&quot;</td><td>151</td><td>&quot;https://drive.google.com/file/…</td><td>&quot;Licor de centaurea &quot;</td><td>[&quot;Produto&quot;]</td><td>[&quot;Colicas&quot;, &quot;Enxaqueca&quot;, … &quot;Molestias estomago&quot;]</td><td>[&quot;Licor&quot;]</td><td>[&quot;Ausente&quot;]</td><td>[&quot;Prospecto [directorio]&quot;]</td><td>[&quot;Comercialização/Depósito (dúbia)&quot;, &quot;Preço&quot;, &quot;Responsável técnico/preparado por/Pharmaceutico&quot;]</td><td>[&quot;Campos&quot;, &quot;Rio de Janeiro&quot;]</td><td>[&quot;Indefinido&quot;]</td><td>&quot;1 garrafa 2$500 e 1 caixa com …</td><td>[&quot;B. Delgado [Delgado]&quot;]</td><td>&quot;-&quot;</td><td>&quot;44 - Rua do Conselho - 44 Camp…</td><td>&quot;-&quot;</td><td>[&quot;para [moléstia]&quot;]</td><td>[&quot;Aconselhado&quot;, &quot;Heroico&quot;, &quot;Uza-se a vontade&quot;]</td><td>[&quot;Ausente&quot;]</td><td>[&quot;Ausente&quot;]</td><td>[&quot;Mencionado&quot;]</td><td>[&quot;Ausente&quot;]</td><td>[&quot;Ausente&quot;]</td><td>null</td><td>[&quot;Ausente&quot;]</td><td>10</td><td>[&quot;Fantasia&quot;, &quot;Serifa&quot;]</td><td>[&quot;Bold&quot;, &quot;Caixa alta&quot;, … &quot;Regular&quot;]</td><td>[&quot;Centralizado&quot;, &quot;Justificado esquerda&quot;]</td><td>[&quot;1 coluna&quot;]</td><td>[&quot;Corpo do texto&quot;, &quot;Título principal&quot;, … &quot;Título terciário&quot;]</td><td>[&quot;Ausente&quot;]</td><td>[&quot;Fios&quot;, &quot;Outro&quot;]</td><td>&quot;licor_centaurea_2 (https://www…</td><td>null</td><td>&quot;Finalizado&quot;</td><td>null</td></tr></tbody></table></div>"
      ],
      "text/plain": [
       "shape: (152, 38)\n",
       "┌─────────────┬─────┬────────────┬────────────┬───┬────────────┬────────────┬────────────┬─────────┐\n",
       "│ Identificad ┆ ID  ┆ Link       ┆ Produto    ┆ … ┆ Original   ┆ Derivados  ┆ Status     ┆ Dúvidas │\n",
       "│ or          ┆ --- ┆ ---        ┆ ofertado   ┆   ┆ (primeira  ┆ ---        ┆ ---        ┆ ---     │\n",
       "│ ---         ┆ i64 ┆ str        ┆ (título    ┆   ┆ aparição)  ┆ str        ┆ str        ┆ str     │\n",
       "│ str         ┆     ┆            ┆ compl…     ┆   ┆ ---        ┆            ┆            ┆         │\n",
       "│             ┆     ┆            ┆ ---        ┆   ┆ str        ┆            ┆            ┆         │\n",
       "│             ┆     ┆            ┆ str        ┆   ┆            ┆            ┆            ┆         │\n",
       "╞═════════════╪═════╪════════════╪════════════╪═══╪════════════╪════════════╪════════════╪═════════╡\n",
       "│ oleo_figado ┆ 1   ┆ https://dr ┆ Oleo puro  ┆ … ┆ null       ┆ null       ┆ Finalizado ┆ null    │\n",
       "│ _bacalhau   ┆     ┆ ive.google ┆ de figado  ┆   ┆            ┆            ┆            ┆         │\n",
       "│             ┆     ┆ .com/file/ ┆ de         ┆   ┆            ┆            ┆            ┆         │\n",
       "│             ┆     ┆ …          ┆ bacalha…   ┆   ┆            ┆            ┆            ┆         │\n",
       "│ tonico_orie ┆ 2   ┆ https://dr ┆ O tonico   ┆ … ┆ null       ┆ null       ┆ Finalizado ┆ null    │\n",
       "│ ntal_cabell ┆     ┆ ive.google ┆ oriental   ┆   ┆            ┆            ┆            ┆         │\n",
       "│ o           ┆     ┆ .com/file/ ┆ para o     ┆   ┆            ┆            ┆            ┆         │\n",
       "│             ┆     ┆ …          ┆ cabel…     ┆   ┆            ┆            ┆            ┆         │\n",
       "│ pilulas_veg ┆ 3   ┆ https://dr ┆ Pilulas    ┆ … ┆ null       ┆ null       ┆ Finalizado ┆ null    │\n",
       "│ eates_assuc ┆     ┆ ive.google ┆ vegetaes   ┆   ┆            ┆            ┆            ┆         │\n",
       "│ aradas_b…   ┆     ┆ .com/file/ ┆ assucarada ┆   ┆            ┆            ┆            ┆         │\n",
       "│             ┆     ┆ …          ┆ s d…       ┆   ┆            ┆            ┆            ┆         │\n",
       "│ og_novo_dep ┆ 4   ┆ https://dr ┆ Novo       ┆ … ┆ null       ┆ novo_depur ┆ Finalizado ┆ null    │\n",
       "│ urativo_ext ┆     ┆ ive.google ┆ depurativo ┆   ┆            ┆ ativo_extr ┆            ┆         │\n",
       "│ racto_sa…   ┆     ┆ .com/file/ ┆ extracto   ┆   ┆            ┆ acto_salsa ┆            ┆         │\n",
       "│             ┆     ┆ …          ┆ fluid…     ┆   ┆            ┆ …          ┆            ┆         │\n",
       "│ salsaparril ┆ 5   ┆ https://dr ┆ Salsaparri ┆ … ┆ null       ┆ null       ┆ Finalizado ┆ null    │\n",
       "│ ha_bristol  ┆     ┆ ive.google ┆ lha de     ┆   ┆            ┆            ┆            ┆         │\n",
       "│             ┆     ┆ .com/file/ ┆ bristol    ┆   ┆            ┆            ┆            ┆         │\n",
       "│             ┆     ┆ …          ┆            ┆   ┆            ┆            ┆            ┆         │\n",
       "│ …           ┆ …   ┆ …          ┆ …          ┆ … ┆ …          ┆ …          ┆ …          ┆ …       │\n",
       "│ pilulas_ver ┆ 148 ┆ https://dr ┆ Pilulas    ┆ … ┆ null       ┆ null       ┆ Finalizado ┆ null    │\n",
       "│ mifugas_dr_ ┆     ┆ ive.google ┆ vermifugas ┆   ┆            ┆            ┆            ┆         │\n",
       "│ oliveira    ┆     ┆ .com/file/ ┆ do Dr      ┆   ┆            ┆            ┆            ┆         │\n",
       "│             ┆     ┆ …          ┆ Olive…     ┆   ┆            ┆            ┆            ┆         │\n",
       "│ elixir_cabo ┆ 152 ┆ https://dr ┆ Elixir do  ┆ … ┆ null       ┆ null       ┆ Finalizado ┆ null    │\n",
       "│ clo         ┆     ┆ ive.google ┆ Caboclo    ┆   ┆            ┆            ┆            ┆         │\n",
       "│             ┆     ┆ .com/file/ ┆            ┆   ┆            ┆            ┆            ┆         │\n",
       "│             ┆     ┆ …          ┆            ┆   ┆            ┆            ┆            ┆         │\n",
       "│ grageas_dep ┆ 149 ┆ https://dr ┆ Gragêas    ┆ … ┆ grageas_de ┆ null       ┆ Finalizado ┆ null    │\n",
       "│ urativas_ma ┆     ┆ ive.google ┆ depurativa ┆   ┆ purativas_ ┆            ┆            ┆         │\n",
       "│ ior         ┆     ┆ .com/file/ ┆ s          ┆   ┆ ioduradas_ ┆            ┆            ┆         │\n",
       "│             ┆     ┆ …          ┆ iodurados  ┆   ┆ …          ┆            ┆            ┆         │\n",
       "│             ┆     ┆            ┆ …          ┆   ┆            ┆            ┆            ┆         │\n",
       "│ licor_centa ┆ 150 ┆ https://dr ┆ Licor de   ┆ … ┆ null       ┆ licor_cent ┆ Finalizado ┆ null    │\n",
       "│ urea_2      ┆     ┆ ive.google ┆ centaurea  ┆   ┆            ┆ aurea_3    ┆            ┆         │\n",
       "│             ┆     ┆ .com/file/ ┆            ┆   ┆            ┆ (https://w ┆            ┆         │\n",
       "│             ┆     ┆ …          ┆            ┆   ┆            ┆ ww…        ┆            ┆         │\n",
       "│ licor_centa ┆ 151 ┆ https://dr ┆ Licor de   ┆ … ┆ licor_cent ┆ null       ┆ Finalizado ┆ null    │\n",
       "│ urea_3      ┆     ┆ ive.google ┆ centaurea  ┆   ┆ aurea_2    ┆            ┆            ┆         │\n",
       "│             ┆     ┆ .com/file/ ┆            ┆   ┆ (https://w ┆            ┆            ┆         │\n",
       "│             ┆     ┆ …          ┆            ┆   ┆ ww…        ┆            ┆            ┆         │\n",
       "└─────────────┴─────┴────────────┴────────────┴───┴────────────┴────────────┴────────────┴─────────┘"
      ]
     },
     "execution_count": 5,
     "metadata": {},
     "output_type": "execute_result"
    }
   ],
   "source": [
    "ad_analysis = (ad_analysis_raw\n",
    "    .select([\n",
    "        pl.col(c).str.split(\", \").alias(c) if c in multi_select_columns else pl.col(c)\n",
    "        for c in schema_analysis_sheet])\n",
    "    .filter(pl.col('Status').eq('Finalizado'))\n",
    "    )\n",
    "ad_analysis"
   ]
  },
  {
   "cell_type": "code",
   "execution_count": 6,
   "id": "77ca9821-91f4-4bc7-b70e-d7de1b9bb2cc",
   "metadata": {},
   "outputs": [],
   "source": [
    "def clean_text(text: str) -> str:\n",
    "    translation_table = str.maketrans(' -çõãóéíâáú','__coaoeiaau', '().')\n",
    "    return text.lower().translate(translation_table)"
   ]
  },
  {
   "cell_type": "code",
   "execution_count": 7,
   "id": "6b6d87d1-7747-403d-92f2-30298e779099",
   "metadata": {},
   "outputs": [],
   "source": [
    "tables = {\n",
    "    clean_text(col) : ad_analysis.select(['Identificador',col]).explode(col).unique().drop_nulls().rename({col:clean_text(col)})\n",
    "    for col in multi_select_columns\n",
    "}\n",
    "tables.update(\n",
    "       {\n",
    "           'anuncios': ad_analysis.select(single_value_columns).with_columns(\n",
    "                (pl.lit('https://drive.google.com/thumbnail?id=') + \n",
    "                 pl.col('Link').str.extract(r'([-\\w]{25,})') + pl.lit('&sz=w1920')).alias('image_url')\n",
    "            ),\n",
    "           'original': (ad_analysis.select(['Identificador', 'Original (primeira aparição)']).unique().drop_nulls().with_columns(pl.col('Original (primeira aparição)').str.split(' ').list.get(0)))\n",
    "       }\n",
    ")"
   ]
  },
  {
   "cell_type": "code",
   "execution_count": 35,
   "id": "f4ccf68f-cf2c-4546-b0b0-d649b9baf3bc",
   "metadata": {},
   "outputs": [
    {
     "data": {
      "text/plain": [
       "dict_keys(['primeiras_palavras_do_anuncio', 'doenca_mencionada', 'tipo_de_produto', 'substancias', 'extras', 'informacoes_indicativas', 'mencoes_a_lugares', 'origem', 'responsavel_tecnico', 'palavra_chave_efeito', 'palavras_chave_produto', 'discursos_de_autoridade', 'publico_mencionado', 'detalhamento_do_efeito', 'detalhamento_forma_de_uso', 'autorizacoes', 'sinal_visual_de_autoridade', 'variacao_typeface', 'variacao_tipografica', 'alinhamento', 'diagramacao', 'hieraquia_da_informacao', 'tipificacao_da_imagem_aprox', 'elementos_de_composicao', 'anuncios', 'original', 'veiculacoes'])"
      ]
     },
     "execution_count": 35,
     "metadata": {},
     "output_type": "execute_result"
    }
   ],
   "source": [
    "tables.keys()"
   ]
  },
  {
   "cell_type": "code",
   "execution_count": 37,
   "id": "70a266eb-720b-4646-9bb5-08f338fa9541",
   "metadata": {},
   "outputs": [
    {
     "data": {
      "text/html": [
       "<div><style>\n",
       ".dataframe > thead > tr,\n",
       ".dataframe > tbody > tr {\n",
       "  text-align: right;\n",
       "  white-space: pre-wrap;\n",
       "}\n",
       "</style>\n",
       "<small>shape: (153, 2)</small><table border=\"1\" class=\"dataframe\"><thead><tr><th>Identificador</th><th>primeiras_palavras_do_anuncio</th></tr><tr><td>str</td><td>str</td></tr></thead><tbody><tr><td>&quot;rob_doliaria_ferro_composto_02&quot;</td><td>&quot;Produto&quot;</td></tr><tr><td>&quot;o_melhor_remedio_febres_interm…</td><td>&quot;O melhor remedio&quot;</td></tr><tr><td>&quot;vermouthina_substitutiva_agua_…</td><td>&quot;Nome do produto&quot;</td></tr><tr><td>&quot;a_celebre_moussenade_aviso_1,2…</td><td>&quot;Nome do produto&quot;</td></tr><tr><td>&quot;novo_depurativo_rheumatismo&quot;</td><td>&quot;Novo depurativo&quot;</td></tr><tr><td>&hellip;</td><td>&hellip;</td></tr><tr><td>&quot;exposicao_paris_cura_asma&quot;</td><td>&quot;Exposição de Paris&quot;</td></tr><tr><td>&quot;purgativo_julien_confeito_vege…</td><td>&quot;Nome do produto&quot;</td></tr><tr><td>&quot;rob_antirheumatico_augusto_max…</td><td>&quot;Produto&quot;</td></tr><tr><td>&quot;maltina_extracto_cevada&quot;</td><td>&quot;Produto&quot;</td></tr><tr><td>&quot;pastilhas_gicquel&quot;</td><td>&quot;Nome do produto&quot;</td></tr></tbody></table></div>"
      ],
      "text/plain": [
       "shape: (153, 2)\n",
       "┌─────────────────────────────────┬───────────────────────────────┐\n",
       "│ Identificador                   ┆ primeiras_palavras_do_anuncio │\n",
       "│ ---                             ┆ ---                           │\n",
       "│ str                             ┆ str                           │\n",
       "╞═════════════════════════════════╪═══════════════════════════════╡\n",
       "│ rob_doliaria_ferro_composto_02  ┆ Produto                       │\n",
       "│ o_melhor_remedio_febres_interm… ┆ O melhor remedio              │\n",
       "│ vermouthina_substitutiva_agua_… ┆ Nome do produto               │\n",
       "│ a_celebre_moussenade_aviso_1,2… ┆ Nome do produto               │\n",
       "│ novo_depurativo_rheumatismo     ┆ Novo depurativo               │\n",
       "│ …                               ┆ …                             │\n",
       "│ exposicao_paris_cura_asma       ┆ Exposição de Paris            │\n",
       "│ purgativo_julien_confeito_vege… ┆ Nome do produto               │\n",
       "│ rob_antirheumatico_augusto_max… ┆ Produto                       │\n",
       "│ maltina_extracto_cevada         ┆ Produto                       │\n",
       "│ pastilhas_gicquel               ┆ Nome do produto               │\n",
       "└─────────────────────────────────┴───────────────────────────────┘"
      ]
     },
     "execution_count": 37,
     "metadata": {},
     "output_type": "execute_result"
    }
   ],
   "source": [
    "tables[clean_text('Primeiras palavras do anúncio')]"
   ]
  },
  {
   "cell_type": "code",
   "execution_count": 8,
   "id": "6ad4bcbb-a0dd-4021-bb79-d09f8b69d8b4",
   "metadata": {},
   "outputs": [],
   "source": [
    "tables;"
   ]
  },
  {
   "cell_type": "code",
   "execution_count": 9,
   "id": "cd00dde6-29c5-43db-92aa-3827a19508de",
   "metadata": {},
   "outputs": [],
   "source": [
    "ad_insertions_raw = pl.read_csv(Path(\"../data/01_bronze/sheets_ficha_registro_veiculacoes.csv\"))"
   ]
  },
  {
   "cell_type": "code",
   "execution_count": 10,
   "id": "f56323fa-0d6d-4f19-9263-90f0d3d35614",
   "metadata": {},
   "outputs": [],
   "source": [
    "schema_ad_insertions = ['Anúncio',\n",
    " 'Ano',\n",
    " 'Edição',\n",
    " 'Página',\n",
    " 'Coluna(s) ocupadas',\n",
    " 'Número de Colunas',\n",
    " 'Orientação']"
   ]
  },
  {
   "cell_type": "code",
   "execution_count": 11,
   "id": "9178c1c2-661d-4120-906c-a9e719f36435",
   "metadata": {},
   "outputs": [],
   "source": [
    "tables.update(\n",
    "    {\n",
    "        'veiculacoes':(\n",
    "            ad_insertions_raw\n",
    "                .select(schema_ad_insertions)  \n",
    "                .filter(pl.col('Anúncio').is_not_null())\n",
    "                .rename({'Anúncio':'Identificador'})\n",
    "                .with_columns(\n",
    "                    pl.format(\"{}_{}\", \n",
    "                              pl.col('Ano'), \n",
    "                              pl.col('Edição').cast(pl.Utf8).str.zfill(3)\n",
    "                             )\n",
    "                    .alias('ano_edicao')\n",
    "    ))\n",
    "    }\n",
    ")"
   ]
  },
  {
   "cell_type": "code",
   "execution_count": 12,
   "id": "3e37942f-30c6-4f53-bf58-1350599e3aa0",
   "metadata": {},
   "outputs": [],
   "source": [
    "db_path = Path('../data/03_gold/monitor_campista_pharma_ads_1880_1884.db')\n",
    "db_connection_string = f\"sqlite:///{db_path.resolve()}\"\n",
    "\n",
    "for table_name, df in tables.items():\n",
    "    df.write_database(\n",
    "        table_name=table_name,\n",
    "        connection=db_connection_string,\n",
    "        if_table_exists=\"replace\",\n",
    "        engine='adbc'\n",
    "    )"
   ]
  },
  {
   "cell_type": "code",
   "execution_count": 13,
   "id": "fbe9a3dd-9e5b-47fc-91bf-c097b41a7408",
   "metadata": {},
   "outputs": [],
   "source": [
    "import duckdb\n",
    "\n",
    "db_path = Path(\"../data/03_gold/monitor_campista_pharma_ads_1880_1884.duckdb\")\n",
    "con = duckdb.connect(str(db_path))\n",
    "\n",
    "for table_name, df in tables.items():\n",
    "    con.register(\"tmp_arrow\", df.to_arrow())\n",
    "    con.execute(f\"CREATE OR REPLACE TABLE {table_name} AS SELECT * FROM tmp_arrow\")\n",
    "con.close()"
   ]
  },
  {
   "cell_type": "code",
   "execution_count": 53,
   "id": "2af2f123-e5d1-477d-acb7-3d8d97972749",
   "metadata": {},
   "outputs": [
    {
     "data": {
      "text/html": [
       "<div><style>\n",
       ".dataframe > thead > tr,\n",
       ".dataframe > tbody > tr {\n",
       "  text-align: right;\n",
       "  white-space: pre-wrap;\n",
       "}\n",
       "</style>\n",
       "<small>shape: (235, 24)</small><table border=\"1\" class=\"dataframe\"><thead><tr><th>primeiras_palavras_do_anuncio</th><th>doenca_mencionada</th><th>tipo_de_produto</th><th>substancias</th><th>extras</th><th>informacoes_indicativas</th><th>mencoes_a_lugares</th><th>origem</th><th>responsavel_tecnico</th><th>palavra_chave_efeito</th><th>palavras_chave_produto</th><th>discursos_de_autoridade</th><th>publico_mencionado</th><th>detalhamento_do_efeito</th><th>detalhamento_forma_de_uso</th><th>autorizacoes</th><th>sinal_visual_de_autoridade</th><th>variacao_typeface</th><th>variacao_tipografica</th><th>alinhamento</th><th>diagramacao</th><th>hieraquia_da_informacao</th><th>tipificacao_da_imagem_aprox</th><th>elementos_de_composicao</th></tr><tr><td>str</td><td>str</td><td>str</td><td>str</td><td>str</td><td>str</td><td>str</td><td>str</td><td>str</td><td>str</td><td>str</td><td>str</td><td>str</td><td>str</td><td>str</td><td>str</td><td>str</td><td>str</td><td>str</td><td>str</td><td>str</td><td>str</td><td>str</td><td>str</td></tr></thead><tbody><tr><td>&quot;Grande purificador&quot;</td><td>&quot;Hysteria&quot;</td><td>&quot;Pastilha&quot;</td><td>&quot;Camomilla composto&quot;</td><td>&quot;Acompanha um directorio com ex…</td><td>&quot;Segredo&quot;</td><td>&quot;Bristol&quot;</td><td>&quot;Inferido&quot;</td><td>&quot;B. Delgado [Delgado]&quot;</td><td>&quot;Formação do sangue&quot;</td><td>&quot;Innocente&quot;</td><td>&quot;Vantagem sobre outros&quot;</td><td>&quot;Ausente&quot;</td><td>&quot;Detalhado&quot;</td><td>&quot;Detalhado&quot;</td><td>&quot;Academia de Medicina de Paris&quot;</td><td>&quot;Assinatura&quot;</td><td>&quot;Serifa clichê&quot;</td><td>&quot;Caixa alta&quot;</td><td>&quot;Alinhado direita&quot;</td><td>&quot;Composição dinâmica&quot;</td><td>&quot;Título terciário&quot;</td><td>&quot;Letra C&quot;</td><td>&quot;Clichê (3)&quot;</td></tr><tr><td>&quot;Capitular&quot;</td><td>&quot;Falta de appetite (perda)&quot;</td><td>&quot;Extrato&quot;</td><td>&quot;Extracto de cevada&quot;</td><td>&quot;Nenhum&quot;</td><td>&quot;Comercialização/Depósito (dúbi…</td><td>&quot;S. José de Leonissa&quot;</td><td>&quot;Indefinido&quot;</td><td>&quot;Dr Franck&quot;</td><td>&quot;Levanta as forças&quot;</td><td>&quot;Hematogeneo&quot;</td><td>&quot;Detalhes dos sintomas&quot;</td><td>&quot;&quot;convalescentes&quot;&quot;</td><td>&quot;Mencionado&quot;</td><td>&quot;Mencionado&quot;</td><td>&quot;Exma Junta de Hygiene Publica&quot;</td><td>&quot;Selo&quot;</td><td>&quot;Serifa&quot;</td><td>&quot;Expandido&quot;</td><td>&quot;Justificado esquerda&quot;</td><td>&quot;1 coluna&quot;</td><td>&quot;Título principal&quot;</td><td>&quot;Serpente&quot;</td><td>&quot;Moldura&quot;</td></tr><tr><td>&quot;Não (há) mais&quot;</td><td>&quot;Cachechias paludosas&quot;</td><td>&quot;Ferruginoso&quot;</td><td>&quot;Extracto de carne&quot;</td><td>&quot;Fala com a comunidade médica&quot;</td><td>&quot;Preço&quot;</td><td>&quot;Côrte&quot;</td><td>&quot;Morro do Côco&quot;</td><td>&quot;Dr. Ferreira Barreto&quot;</td><td>&quot;Resultados satisfatorios&quot;</td><td>&quot;Antiparasitario&quot;</td><td>&quot;Recomendado/attestado por espe…</td><td>&quot;Adolescentes&quot;</td><td>&quot;Ausente&quot;</td><td>&quot;Ausente&quot;</td><td>&quot;Governo Imperial&quot;</td><td>&quot;Cliche do Império do Brazil&quot;</td><td>&quot;Sem serifa clichê&quot;</td><td>&quot;Itálico&quot;</td><td>&quot;Outro&quot;</td><td>&quot;2 colunas&quot;</td><td>&quot;Título secundário&quot;</td><td>&quot;Lâmpada Mágica&quot;</td><td>&quot;Outro&quot;</td></tr><tr><td>&quot;Medida anti-falsificações&quot;</td><td>&quot;febres&quot;</td><td>&quot;Vinho&quot;</td><td>&quot;Sal de ferro&quot;</td><td>&quot;Sugestão de uso coadjuvante co…</td><td>&quot;Indefinido&quot;</td><td>&quot;Calçado&quot;</td><td>&quot;Estrangeiro&quot;</td><td>&quot;Lagasse&quot;</td><td>&quot;Suores noturnos cessão&quot;</td><td>&quot;Emprego fácil&quot;</td><td>&quot;Apelo ao antigo longevo&quot;</td><td>&quot;&quot;senhoras gravidas&quot;&quot;</td><td>null</td><td>null</td><td>&quot;Exma. Junta de Hygiene Publica…</td><td>&quot;Ausente&quot;</td><td>&quot;Fantasia clichê&quot;</td><td>&quot;Regular&quot;</td><td>&quot;Centralizado&quot;</td><td>null</td><td>&quot;Subtítulo&quot;</td><td>&quot;Caixa medicamento&quot;</td><td>&quot;Bigode&quot;</td></tr><tr><td>&quot;Unicos&quot;</td><td>&quot;Vertigens&quot;</td><td>&quot;Xarope&quot;</td><td>&quot;Agrião&quot;</td><td>&quot;Distribuição gratuita&quot;</td><td>&quot;Responsável técnico/preparado …</td><td>&quot;Cachoeiros&quot;</td><td>&quot;Declarado&quot;</td><td>&quot;Carlos Franco&quot;</td><td>&quot;Allivia [moléstia]&quot;</td><td>&quot;Remedio secreto&quot;</td><td>&quot;Apelo a inovação tecnologia&quot;</td><td>&quot;Pessoas de viajam&quot;</td><td>null</td><td>null</td><td>&quot;Junta Central de Hygiene&quot;</td><td>null</td><td>&quot;Fantasia&quot;</td><td>&quot;Outros&quot;</td><td>null</td><td>null</td><td>&quot;Composição dinâmica&quot;</td><td>&quot;Brasão&quot;</td><td>&quot;Clichê&quot;</td></tr><tr><td>&hellip;</td><td>&hellip;</td><td>&hellip;</td><td>&hellip;</td><td>&hellip;</td><td>&hellip;</td><td>&hellip;</td><td>&hellip;</td><td>&hellip;</td><td>&hellip;</td><td>&hellip;</td><td>&hellip;</td><td>&hellip;</td><td>&hellip;</td><td>&hellip;</td><td>&hellip;</td><td>&hellip;</td><td>&hellip;</td><td>&hellip;</td><td>&hellip;</td><td>&hellip;</td><td>&hellip;</td><td>&hellip;</td><td>&hellip;</td></tr><tr><td>null</td><td>&quot;Affecção intestino&quot;</td><td>null</td><td>null</td><td>null</td><td>null</td><td>null</td><td>null</td><td>null</td><td>null</td><td>null</td><td>null</td><td>null</td><td>null</td><td>null</td><td>null</td><td>null</td><td>null</td><td>null</td><td>null</td><td>null</td><td>null</td><td>null</td><td>null</td></tr><tr><td>null</td><td>&quot;Insomnias&quot;</td><td>null</td><td>null</td><td>null</td><td>null</td><td>null</td><td>null</td><td>null</td><td>null</td><td>null</td><td>null</td><td>null</td><td>null</td><td>null</td><td>null</td><td>null</td><td>null</td><td>null</td><td>null</td><td>null</td><td>null</td><td>null</td><td>null</td></tr><tr><td>null</td><td>&quot;Boubas&quot;</td><td>null</td><td>null</td><td>null</td><td>null</td><td>null</td><td>null</td><td>null</td><td>null</td><td>null</td><td>null</td><td>null</td><td>null</td><td>null</td><td>null</td><td>null</td><td>null</td><td>null</td><td>null</td><td>null</td><td>null</td><td>null</td><td>null</td></tr><tr><td>null</td><td>&quot;Asthma [asma]&quot;</td><td>null</td><td>null</td><td>null</td><td>null</td><td>null</td><td>null</td><td>null</td><td>null</td><td>null</td><td>null</td><td>null</td><td>null</td><td>null</td><td>null</td><td>null</td><td>null</td><td>null</td><td>null</td><td>null</td><td>null</td><td>null</td><td>null</td></tr><tr><td>null</td><td>&quot;Irregularidades da menstruação&quot;</td><td>null</td><td>null</td><td>null</td><td>null</td><td>null</td><td>null</td><td>null</td><td>null</td><td>null</td><td>null</td><td>null</td><td>null</td><td>null</td><td>null</td><td>null</td><td>null</td><td>null</td><td>null</td><td>null</td><td>null</td><td>null</td><td>null</td></tr></tbody></table></div>"
      ],
      "text/plain": [
       "shape: (235, 24)\n",
       "┌───────────┬───────────┬───────────┬───────────┬───┬───────────┬───────────┬───────────┬──────────┐\n",
       "│ primeiras ┆ doenca_me ┆ tipo_de_p ┆ substanci ┆ … ┆ diagramac ┆ hieraquia ┆ tipificac ┆ elemento │\n",
       "│ _palavras ┆ ncionada  ┆ roduto    ┆ as        ┆   ┆ ao        ┆ _da_infor ┆ ao_da_ima ┆ s_de_com │\n",
       "│ _do_anunc ┆ ---       ┆ ---       ┆ ---       ┆   ┆ ---       ┆ macao     ┆ gem_aprox ┆ posicao  │\n",
       "│ io        ┆ str       ┆ str       ┆ str       ┆   ┆ str       ┆ ---       ┆ ---       ┆ ---      │\n",
       "│ ---       ┆           ┆           ┆           ┆   ┆           ┆ str       ┆ str       ┆ str      │\n",
       "│ str       ┆           ┆           ┆           ┆   ┆           ┆           ┆           ┆          │\n",
       "╞═══════════╪═══════════╪═══════════╪═══════════╪═══╪═══════════╪═══════════╪═══════════╪══════════╡\n",
       "│ Grande    ┆ Hysteria  ┆ Pastilha  ┆ Camomilla ┆ … ┆ Composiçã ┆ Título    ┆ Letra C   ┆ Clichê   │\n",
       "│ purificad ┆           ┆           ┆ composto  ┆   ┆ o         ┆ terciário ┆           ┆ (3)      │\n",
       "│ or        ┆           ┆           ┆           ┆   ┆ dinâmica  ┆           ┆           ┆          │\n",
       "│ Capitular ┆ Falta de  ┆ Extrato   ┆ Extracto  ┆ … ┆ 1 coluna  ┆ Título    ┆ Serpente  ┆ Moldura  │\n",
       "│           ┆ appetite  ┆           ┆ de cevada ┆   ┆           ┆ principal ┆           ┆          │\n",
       "│           ┆ (perda)   ┆           ┆           ┆   ┆           ┆           ┆           ┆          │\n",
       "│ Não (há)  ┆ Cachechia ┆ Ferrugino ┆ Extracto  ┆ … ┆ 2 colunas ┆ Título    ┆ Lâmpada   ┆ Outro    │\n",
       "│ mais      ┆ s         ┆ so        ┆ de carne  ┆   ┆           ┆ secundári ┆ Mágica    ┆          │\n",
       "│           ┆ paludosas ┆           ┆           ┆   ┆           ┆ o         ┆           ┆          │\n",
       "│ Medida    ┆ febres    ┆ Vinho     ┆ Sal de    ┆ … ┆ null      ┆ Subtítulo ┆ Caixa med ┆ Bigode   │\n",
       "│ anti-fals ┆           ┆           ┆ ferro     ┆   ┆           ┆           ┆ icamento  ┆          │\n",
       "│ ificações ┆           ┆           ┆           ┆   ┆           ┆           ┆           ┆          │\n",
       "│ Unicos    ┆ Vertigens ┆ Xarope    ┆ Agrião    ┆ … ┆ null      ┆ Composiçã ┆ Brasão    ┆ Clichê   │\n",
       "│           ┆           ┆           ┆           ┆   ┆           ┆ o         ┆           ┆          │\n",
       "│           ┆           ┆           ┆           ┆   ┆           ┆ dinâmica  ┆           ┆          │\n",
       "│ …         ┆ …         ┆ …         ┆ …         ┆ … ┆ …         ┆ …         ┆ …         ┆ …        │\n",
       "│ null      ┆ Affecção  ┆ null      ┆ null      ┆ … ┆ null      ┆ null      ┆ null      ┆ null     │\n",
       "│           ┆ intestino ┆           ┆           ┆   ┆           ┆           ┆           ┆          │\n",
       "│ null      ┆ Insomnias ┆ null      ┆ null      ┆ … ┆ null      ┆ null      ┆ null      ┆ null     │\n",
       "│ null      ┆ Boubas    ┆ null      ┆ null      ┆ … ┆ null      ┆ null      ┆ null      ┆ null     │\n",
       "│ null      ┆ Asthma    ┆ null      ┆ null      ┆ … ┆ null      ┆ null      ┆ null      ┆ null     │\n",
       "│           ┆ [asma]    ┆           ┆           ┆   ┆           ┆           ┆           ┆          │\n",
       "│ null      ┆ Irregular ┆ null      ┆ null      ┆ … ┆ null      ┆ null      ┆ null      ┆ null     │\n",
       "│           ┆ idades da ┆           ┆           ┆   ┆           ┆           ┆           ┆          │\n",
       "│           ┆ menstruaç ┆           ┆           ┆   ┆           ┆           ┆           ┆          │\n",
       "│           ┆ ão        ┆           ┆           ┆   ┆           ┆           ┆           ┆          │\n",
       "└───────────┴───────────┴───────────┴───────────┴───┴───────────┴───────────┴───────────┴──────────┘"
      ]
     },
     "execution_count": 53,
     "metadata": {},
     "output_type": "execute_result"
    }
   ],
   "source": [
    "tables.keys()\n",
    "\n",
    "multi_select_columns_table = pl.concat([tables[clean_text(col)][clean_text(col)].unique().to_frame() for col in multi_select_columns], how='horizontal')\n",
    "# multi_select_columns_table.write_csv('filename.csv')\n",
    "multi_select_columns_table"
   ]
  }
 ],
 "metadata": {
  "kernelspec": {
   "display_name": "Python 3 (ipykernel)",
   "language": "python",
   "name": "python3"
  },
  "language_info": {
   "codemirror_mode": {
    "name": "ipython",
    "version": 3
   },
   "file_extension": ".py",
   "mimetype": "text/x-python",
   "name": "python",
   "nbconvert_exporter": "python",
   "pygments_lexer": "ipython3",
   "version": "3.11.10"
  }
 },
 "nbformat": 4,
 "nbformat_minor": 5
}
