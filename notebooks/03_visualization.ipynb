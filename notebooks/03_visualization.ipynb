{
 "cells": [
  {
   "cell_type": "code",
   "execution_count": 1,
   "id": "33a622f8-5144-4ca3-b6c8-99d669394e24",
   "metadata": {},
   "outputs": [],
   "source": [
    "import polars as pl\n",
    "import duckdb"
   ]
  },
  {
   "cell_type": "code",
   "execution_count": 26,
   "id": "e51152b2-555a-471b-9e41-1fb3e7adf7a0",
   "metadata": {},
   "outputs": [],
   "source": [
    "con = duckdb.connect('../data/03_gold/monitor_campista_pharma_ads_1880_1884.db')\n",
    "# con.execute(\"ATTACH '../data/03_gold/monitor_campista_pharma_ads_1880_1884.duckdb' AS monitor;\")"
   ]
  },
  {
   "cell_type": "code",
   "execution_count": 29,
   "id": "272bc480-76df-4941-be0c-81042c2a51b9",
   "metadata": {},
   "outputs": [
    {
     "ename": "OutOfMemoryException",
     "evalue": "Out of Memory Error: Allocation failure",
     "output_type": "error",
     "traceback": [
      "\u001b[31m---------------------------------------------------------------------------\u001b[39m",
      "\u001b[31mOutOfMemoryException\u001b[39m                      Traceback (most recent call last)",
      "\u001b[36mCell\u001b[39m\u001b[36m \u001b[39m\u001b[32mIn[29]\u001b[39m\u001b[32m, line 1\u001b[39m\n\u001b[32m----> \u001b[39m\u001b[32m1\u001b[39m \u001b[43mcon\u001b[49m\u001b[43m.\u001b[49m\u001b[43msql\u001b[49m\u001b[43m(\u001b[49m\u001b[33;43m\"\u001b[39;49m\u001b[33;43mSHOW ALL TABLES;\u001b[39;49m\u001b[33;43m\"\u001b[39;49m\u001b[43m)\u001b[49m\u001b[43m.\u001b[49m\u001b[43mpl\u001b[49m\u001b[43m(\u001b[49m\u001b[43m)\u001b[49m\n",
      "\u001b[31mOutOfMemoryException\u001b[39m: Out of Memory Error: Allocation failure"
     ]
    }
   ],
   "source": [
    "con.sql(\"SHOW ALL TABLES;\").pl()"
   ]
  },
  {
   "cell_type": "code",
   "execution_count": 30,
   "id": "573be152-ebcb-4988-8cf0-238a718de961",
   "metadata": {},
   "outputs": [
    {
     "data": {
      "text/html": [
       "<div><style>\n",
       ".dataframe > thead > tr,\n",
       ".dataframe > tbody > tr {\n",
       "  text-align: right;\n",
       "  white-space: pre-wrap;\n",
       "}\n",
       "</style>\n",
       "<small>shape: (44, 16)</small><table border=\"1\" class=\"dataframe\"><thead><tr><th>Identificador</th><th>ID</th><th>Link</th><th>Produto ofertado (título completo)</th><th>Preço</th><th>Comercialização</th><th>Depósito</th><th>Produção</th><th>Observações</th><th>Quantidade de linhas</th><th>Quantidade de colunas</th><th>Quantidade de variações tipográficas (aprox.)</th><th>Pai</th><th>Complexidade</th><th>Status</th><th>image_url</th></tr><tr><td>binary</td><td>i64</td><td>binary</td><td>binary</td><td>binary</td><td>binary</td><td>binary</td><td>binary</td><td>binary</td><td>i64</td><td>binary</td><td>i64</td><td>binary</td><td>f64</td><td>binary</td><td>binary</td></tr></thead><tbody><tr><td>b&quot;oleo_figado_bacalhau&quot;</td><td>1</td><td>b&quot;https://drive.google.com/file/d/1ZR0EB-XDWMpCxZvno7zzRyImPUw&quot;…</td><td>b&quot;Oleo\\x20puro\\x20de\\x20figado\\x20de\\x20bacalhao&quot;</td><td>b&quot;-&quot;</td><td>b&quot;Vende-se\\x20em\\x20todas\\x20as\\x20pharmacias\\x20e\\x20drogarias\\x20do\\x20Imperio&quot;</td><td>b&quot;-&quot;</td><td>b&quot;-&quot;</td><td>null</td><td>null</td><td>null</td><td>5</td><td>null</td><td>1.130592</td><td>b&quot;Finalizado&quot;</td><td>b&quot;https://drive.google.com/uc?export=view&amp;id=1ZR0EB-XDWMpCxZvn&quot;…</td></tr><tr><td>b&quot;tonico_oriental_cabello&quot;</td><td>2</td><td>b&quot;https://drive.google.com/file/d/1-CLIUlJO9hLxXH1R009AYfqjx9n&quot;…</td><td>b&quot;O\\x20tonico\\x20oriental\\x20para\\x20o\\x20cabello&quot;</td><td>b&quot;-&quot;</td><td>b&quot;Vende-se\\x20em\\x20todas\\x20as\\x20pharmacias\\x20e\\x20drogarias\\x20do\\x20Imperio&quot;</td><td>b&quot;-&quot;</td><td>b&quot;-&quot;</td><td>null</td><td>null</td><td>null</td><td>4</td><td>null</td><td>0.887734</td><td>b&quot;Finalizado&quot;</td><td>b&quot;https://drive.google.com/uc?export=view&amp;id=1-CLIUlJO9hLxXH1R&quot;…</td></tr><tr><td>b&quot;pilulas_vegeates_assucaradas_bristol&quot;</td><td>3</td><td>b&quot;https://drive.google.com/file/d/1MwIhZSCNDpoA_Ft0JQUwPj8eeQs&quot;…</td><td>b&quot;Pilulas\\x20vegetaes\\x20assucaradas\\x20de\\x20bristol&quot;</td><td>b&quot;-&quot;</td><td>b&quot;Vende-se\\x20em\\x20todas\\x20as\\x20farm\\xc3\\xa1cias\\x20e\\x20drogarias\\x20do\\x20Imperio&quot;</td><td>b&quot;-&quot;</td><td>b&quot;-&quot;</td><td>null</td><td>null</td><td>null</td><td>4</td><td>null</td><td>0.887734</td><td>b&quot;Finalizado&quot;</td><td>b&quot;https://drive.google.com/uc?export=view&amp;id=1MwIhZSCNDpoA_Ft0&quot;…</td></tr><tr><td>b&quot;og_novo_depurativo_extracto_salsaparrilha_caroba_2colunas_co&quot;…</td><td>4</td><td>b&quot;https://drive.google.com/file/d/1JgPY9ZdwwdEypRemyhnSPiDoNhg&quot;…</td><td>b&quot;Novo\\x20depurativo\\x20extracto\\x20fluido\\x20de\\x20salsaparrilha\\x20e\\x20caroba\\x20io&quot;…</td><td>b&quot;Pre\\xc3\\xa7o\\x20de\\x20um\\x20vidro\\x202$500\\x0aPre\\xc3\\xa7o\\x20de\\x20uma\\x20duzia\\x20de\\x20vidros\\x2024$00&quot;…</td><td>b&quot;-&quot;</td><td>b&quot;DEPOSITO:\\xe2\\x80\\x94Pharmacia\\x20de\\x20Vicente\\x20Antonio\\x20da\\x20Silva\\x0aRua\\x20Direit&quot;…</td><td>b&quot;-&quot;</td><td>b&quot;N.\\x20B.\\x20\\xe2\\x80\\x94\\x20Todos\\x20os\\x20rotulos\\x20e\\x20prospectos\\x20levar\\xc3\\xa1\\xc3\\xa3o\\x20a\\x20assigna&quot;…</td><td>null</td><td>null</td><td>7</td><td>null</td><td>1.473449</td><td>b&quot;Finalizado&quot;</td><td>b&quot;https://drive.google.com/uc?export=view&amp;id=1JgPY9ZdwwdEypRem&quot;…</td></tr><tr><td>b&quot;salsaparrilha_bristol&quot;</td><td>5</td><td>b&quot;https://drive.google.com/file/d/1ThQ5PbshaDztgX9WG-uPOWC8daP&quot;…</td><td>b&quot;Salsaparrilha\\x20de\\x20bristol&quot;</td><td>b&quot;-&quot;</td><td>b&quot;Vende-se\\x20em\\x20todas\\x20as\\x20pharmacias\\x20e\\x20drogarias\\x20do\\x20Imperio&quot;</td><td>b&quot;-&quot;</td><td>b&quot;-&quot;</td><td>null</td><td>null</td><td>null</td><td>2</td><td>null</td><td>0.687734</td><td>b&quot;Finalizado&quot;</td><td>b&quot;https://drive.google.com/uc?export=view&amp;id=1ThQ5PbshaDztgX9W&quot;…</td></tr><tr><td>&hellip;</td><td>&hellip;</td><td>&hellip;</td><td>&hellip;</td><td>&hellip;</td><td>&hellip;</td><td>&hellip;</td><td>&hellip;</td><td>&hellip;</td><td>&hellip;</td><td>&hellip;</td><td>&hellip;</td><td>&hellip;</td><td>&hellip;</td><td>&hellip;</td><td>&hellip;</td></tr><tr><td>b&quot;extracto_composto_salsaparrilha_ayer&quot;</td><td>41</td><td>b&quot;https://drive.google.com/file/d/1WXE-ODG7muUTG6gx1jFey_alz-k&quot;…</td><td>b&quot;Extracto\\x20composto\\x20de\\x20Salsaparrilha\\x20de\\x20Ayer&quot;</td><td>b&quot;-&quot;</td><td>b&quot;-&quot;</td><td>b&quot;Deposito\\x20geral\\x20N.\\x2013,\\x20Rua\\x20Primeiro\\x20de\\x20Mar\\xc3\\xa7o,\\x20Rio\\x20de\\x20Janeiro&quot;…</td><td>b&quot;-&quot;</td><td>null</td><td>null</td><td>null</td><td>8</td><td>null</td><td>1.652814</td><td>b&quot;Finalizado&quot;</td><td>b&quot;https://drive.google.com/uc?export=view&amp;id=1WXE-ODG7muUTG6gx&quot;…</td></tr><tr><td>b&quot;a_pomada_vaselina&quot;</td><td>42</td><td>b&quot;https://drive.google.com/file/d/1H7hd1qS9TFVsPWTt3pj0bAnM4Pm&quot;…</td><td>b&quot;A\\x20Pomada\\x20Vaselina&quot;</td><td>b&quot;-&quot;</td><td>b&quot;Casa\\x20Ingleza&quot;</td><td>b&quot;-&quot;</td><td>b&quot;-&quot;</td><td>null</td><td>null</td><td>null</td><td>3</td><td>null</td><td>0.787734</td><td>b&quot;Finalizado&quot;</td><td>b&quot;https://drive.google.com/uc?export=view&amp;id=1H7hd1qS9TFVsPWTt&quot;…</td></tr><tr><td>b&quot;vaselina_pura&quot;</td><td>43</td><td>b&quot;https://drive.google.com/file/d/1l86akIEymRTXkYVAagyrhRD9CBt&quot;…</td><td>b&quot;Vaselina\\x20Pura&quot;</td><td>b&quot;-&quot;</td><td>b&quot;Casa\\x20Ingleza&quot;</td><td>b&quot;-&quot;</td><td>b&quot;-&quot;</td><td>null</td><td>null</td><td>null</td><td>3</td><td>null</td><td>0.787734</td><td>b&quot;Finalizado&quot;</td><td>b&quot;https://drive.google.com/uc?export=view&amp;id=1l86akIEymRTXkYVA&quot;…</td></tr><tr><td>b&quot;exposicao_paris_cura_asma&quot;</td><td>45</td><td>b&quot;https://drive.google.com/file/d/1pjBM8K4onBssFJHgZ6yk0NVAvo7&quot;…</td><td>b&quot;P\\xc3\\xb3\\x20do\\x20Dr.\\x20Cl\\xc3\\xa9ry&quot;</td><td>b&quot;-&quot;</td><td>b&quot;Vende-se\\x20em\\x20todas\\x20as\\x20Pharmacias.&quot;</td><td>b&quot;-&quot;</td><td>b&quot;-&quot;</td><td>null</td><td>null</td><td>null</td><td>8</td><td>null</td><td>1.3671</td><td>b&quot;Finalizado&quot;</td><td>b&quot;https://drive.google.com/uc?export=view&amp;id=1pjBM8K4onBssFJHg&quot;…</td></tr><tr><td>b&quot;casa_ingleza_vaselina_camphorada&quot;</td><td>44</td><td>b&quot;https://drive.google.com/file/d/19WCFc1mH2ej7nXA2IAzkXC2I7nO&quot;…</td><td>b&quot;Vaselina\\x20Camphorada&quot;</td><td>b&quot;-&quot;</td><td>b&quot;Casa\\x20Ingleza&quot;</td><td>b&quot;-&quot;</td><td>b&quot;-&quot;</td><td>null</td><td>null</td><td>null</td><td>3</td><td>null</td><td>0.930592</td><td>b&quot;Finalizado&quot;</td><td>b&quot;https://drive.google.com/uc?export=view&amp;id=19WCFc1mH2ej7nXA2&quot;…</td></tr></tbody></table></div>"
      ],
      "text/plain": [
       "shape: (44, 16)\n",
       "┌─────────────┬─────┬─────────────┬────────────┬───┬────────┬────────────┬────────────┬────────────┐\n",
       "│ Identificad ┆ ID  ┆ Link        ┆ Produto    ┆ … ┆ Pai    ┆ Complexida ┆ Status     ┆ image_url  │\n",
       "│ or          ┆ --- ┆ ---         ┆ ofertado   ┆   ┆ ---    ┆ de         ┆ ---        ┆ ---        │\n",
       "│ ---         ┆ i64 ┆ binary      ┆ (título    ┆   ┆ binary ┆ ---        ┆ binary     ┆ binary     │\n",
       "│ binary      ┆     ┆             ┆ compl…     ┆   ┆        ┆ f64        ┆            ┆            │\n",
       "│             ┆     ┆             ┆ ---        ┆   ┆        ┆            ┆            ┆            │\n",
       "│             ┆     ┆             ┆ binary     ┆   ┆        ┆            ┆            ┆            │\n",
       "╞═════════════╪═════╪═════════════╪════════════╪═══╪════════╪════════════╪════════════╪════════════╡\n",
       "│ b\"oleo_figa ┆ 1   ┆ b\"https://d ┆ b\"Oleo\\x20 ┆ … ┆ null   ┆ 1.130592   ┆ b\"Finaliza ┆ b\"https:// │\n",
       "│ do_bacalhau ┆     ┆ rive.google ┆ puro\\x20de ┆   ┆        ┆            ┆ do\"        ┆ drive.goog │\n",
       "│ \"           ┆     ┆ .com/fil…   ┆ \\x20figado ┆   ┆        ┆            ┆            ┆ le.com/uc? │\n",
       "│             ┆     ┆             ┆ …          ┆   ┆        ┆            ┆            ┆ …          │\n",
       "│ b\"tonico_or ┆ 2   ┆ b\"https://d ┆ b\"O\\x20ton ┆ … ┆ null   ┆ 0.887734   ┆ b\"Finaliza ┆ b\"https:// │\n",
       "│ iental_cabe ┆     ┆ rive.google ┆ ico\\x20ori ┆   ┆        ┆            ┆ do\"        ┆ drive.goog │\n",
       "│ llo\"        ┆     ┆ .com/fil…   ┆ ental\\x20p ┆   ┆        ┆            ┆            ┆ le.com/uc? │\n",
       "│             ┆     ┆             ┆ …          ┆   ┆        ┆            ┆            ┆ …          │\n",
       "│ b\"pilulas_v ┆ 3   ┆ b\"https://d ┆ b\"Pilulas\\ ┆ … ┆ null   ┆ 0.887734   ┆ b\"Finaliza ┆ b\"https:// │\n",
       "│ egeates_ass ┆     ┆ rive.google ┆ x20vegetae ┆   ┆        ┆            ┆ do\"        ┆ drive.goog │\n",
       "│ ucaradas…   ┆     ┆ .com/fil…   ┆ s\\x20assuc ┆   ┆        ┆            ┆            ┆ le.com/uc? │\n",
       "│             ┆     ┆             ┆ …          ┆   ┆        ┆            ┆            ┆ …          │\n",
       "│ b\"og_novo_d ┆ 4   ┆ b\"https://d ┆ b\"Novo\\x20 ┆ … ┆ null   ┆ 1.473449   ┆ b\"Finaliza ┆ b\"https:// │\n",
       "│ epurativo_e ┆     ┆ rive.google ┆ depurativo ┆   ┆        ┆            ┆ do\"        ┆ drive.goog │\n",
       "│ xtracto_…   ┆     ┆ .com/fil…   ┆ \\x20extrac ┆   ┆        ┆            ┆            ┆ le.com/uc? │\n",
       "│             ┆     ┆             ┆ …          ┆   ┆        ┆            ┆            ┆ …          │\n",
       "│ b\"salsaparr ┆ 5   ┆ b\"https://d ┆ b\"Salsapar ┆ … ┆ null   ┆ 0.687734   ┆ b\"Finaliza ┆ b\"https:// │\n",
       "│ ilha_bristo ┆     ┆ rive.google ┆ rilha\\x20d ┆   ┆        ┆            ┆ do\"        ┆ drive.goog │\n",
       "│ l\"          ┆     ┆ .com/fil…   ┆ e\\x20brist ┆   ┆        ┆            ┆            ┆ le.com/uc? │\n",
       "│             ┆     ┆             ┆ …          ┆   ┆        ┆            ┆            ┆ …          │\n",
       "│ …           ┆ …   ┆ …           ┆ …          ┆ … ┆ …      ┆ …          ┆ …          ┆ …          │\n",
       "│ b\"extracto_ ┆ 41  ┆ b\"https://d ┆ b\"Extracto ┆ … ┆ null   ┆ 1.652814   ┆ b\"Finaliza ┆ b\"https:// │\n",
       "│ composto_sa ┆     ┆ rive.google ┆ \\x20compos ┆   ┆        ┆            ┆ do\"        ┆ drive.goog │\n",
       "│ lsaparri…   ┆     ┆ .com/fil…   ┆ to\\x20de\\x ┆   ┆        ┆            ┆            ┆ le.com/uc? │\n",
       "│             ┆     ┆             ┆ …          ┆   ┆        ┆            ┆            ┆ …          │\n",
       "│ b\"a_pomada_ ┆ 42  ┆ b\"https://d ┆ b\"A\\x20Pom ┆ … ┆ null   ┆ 0.787734   ┆ b\"Finaliza ┆ b\"https:// │\n",
       "│ vaselina\"   ┆     ┆ rive.google ┆ ada\\x20Vas ┆   ┆        ┆            ┆ do\"        ┆ drive.goog │\n",
       "│             ┆     ┆ .com/fil…   ┆ elina\"     ┆   ┆        ┆            ┆            ┆ le.com/uc? │\n",
       "│             ┆     ┆             ┆            ┆   ┆        ┆            ┆            ┆ …          │\n",
       "│ b\"vaselina_ ┆ 43  ┆ b\"https://d ┆ b\"Vaselina ┆ … ┆ null   ┆ 0.787734   ┆ b\"Finaliza ┆ b\"https:// │\n",
       "│ pura\"       ┆     ┆ rive.google ┆ \\x20Pura\"  ┆   ┆        ┆            ┆ do\"        ┆ drive.goog │\n",
       "│             ┆     ┆ .com/fil…   ┆            ┆   ┆        ┆            ┆            ┆ le.com/uc? │\n",
       "│             ┆     ┆             ┆            ┆   ┆        ┆            ┆            ┆ …          │\n",
       "│ b\"exposicao ┆ 45  ┆ b\"https://d ┆ b\"P\\xc3\\xb ┆ … ┆ null   ┆ 1.3671     ┆ b\"Finaliza ┆ b\"https:// │\n",
       "│ _paris_cura ┆     ┆ rive.google ┆ 3\\x20do\\x2 ┆   ┆        ┆            ┆ do\"        ┆ drive.goog │\n",
       "│ _asma\"      ┆     ┆ .com/fil…   ┆ 0Dr.\\x20Cl ┆   ┆        ┆            ┆            ┆ le.com/uc? │\n",
       "│             ┆     ┆             ┆ …          ┆   ┆        ┆            ┆            ┆ …          │\n",
       "│ b\"casa_ingl ┆ 44  ┆ b\"https://d ┆ b\"Vaselina ┆ … ┆ null   ┆ 0.930592   ┆ b\"Finaliza ┆ b\"https:// │\n",
       "│ eza_vaselin ┆     ┆ rive.google ┆ \\x20Campho ┆   ┆        ┆            ┆ do\"        ┆ drive.goog │\n",
       "│ a_campho…   ┆     ┆ .com/fil…   ┆ rada\"      ┆   ┆        ┆            ┆            ┆ le.com/uc? │\n",
       "│             ┆     ┆             ┆            ┆   ┆        ┆            ┆            ┆ …          │\n",
       "└─────────────┴─────┴─────────────┴────────────┴───┴────────┴────────────┴────────────┴────────────┘"
      ]
     },
     "execution_count": 30,
     "metadata": {},
     "output_type": "execute_result"
    }
   ],
   "source": [
    "con.query(\"\"\"\n",
    "select * \n",
    "from anuncios\n",
    "\"\"\").pl()"
   ]
  },
  {
   "cell_type": "code",
   "execution_count": 23,
   "id": "2f3687f4-7610-4fa1-b2d7-43e70064762b",
   "metadata": {},
   "outputs": [],
   "source": [
    "con.close()"
   ]
  }
 ],
 "metadata": {
  "kernelspec": {
   "display_name": "Python 3 (ipykernel)",
   "language": "python",
   "name": "python3"
  },
  "language_info": {
   "codemirror_mode": {
    "name": "ipython",
    "version": 3
   },
   "file_extension": ".py",
   "mimetype": "text/x-python",
   "name": "python",
   "nbconvert_exporter": "python",
   "pygments_lexer": "ipython3",
   "version": "3.11.10"
  }
 },
 "nbformat": 4,
 "nbformat_minor": 5
}
